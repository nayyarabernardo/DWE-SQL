{
    "metadata": {
        "kernelspec": {
            "name": "SQL",
            "display_name": "SQL",
            "language": "sql"
        },
        "language_info": {
            "name": "sql",
            "version": ""
        }
    },
    "nbformat_minor": 2,
    "nbformat": 4,
    "cells": [
        {
            "cell_type": "markdown",
            "source": [
                "**CRIAR UM DATABASE CASO NÃO EXISTA**"
            ],
            "metadata": {
                "azdata_cell_guid": "740fcb36-d13e-407e-96d5-45b307455c62"
            },
            "attachments": {}
        },
        {
            "cell_type": "code",
            "source": [
                "\r\n",
                "IF NOT EXISTS (SELECT * FROM  sys.databases WHERE name='DW') CREATE DATABASE DW\r\n",
                "GO\r\n",
                ""
            ],
            "metadata": {
                "azdata_cell_guid": "65c79fed-0b0b-437f-9f7f-fcd03ebb30bb",
                "language": "sql",
                "tags": []
            },
            "outputs": [],
            "execution_count": null
        },
        {
            "cell_type": "markdown",
            "source": [
                "**CRIAR SCHEMAS**"
            ],
            "metadata": {
                "language": "sql",
                "azdata_cell_guid": "be8a2951-22bf-4500-b7fd-1d5b72d602ae"
            },
            "attachments": {}
        },
        {
            "cell_type": "code",
            "source": [
                "USE DW_42\r\n",
                "GO\r\n",
                "--CREATE SCHEMA STAGING\r\n",
                "IF NOT EXISTS (SELECT 1 FROM sys.schemas WHERE name='STAGING')\r\n",
                "   EXEC('CREATE SCHEMA STAGING');\r\n",
                "    --CREATE SCHEMA STAGING\r\n",
                "GO\r\n",
                "--CREATE SCHEMA SILVER2\r\n",
                "IF NOT EXISTS (SELECT 1 FROM sys.schemas WHERE name='SILVER2')\r\n",
                " EXEC('CREATE SCHEMA SILVER2');\r\n",
                "GO\r\n",
                "--CREATE SCHEMA GOLD2\r\n",
                "IF NOT EXISTS (SELECT 1 FROM sys.schemas WHERE name='GOLD2')\r\n",
                "EXEC('CREATE SCHEMA GOLD2');\r\n",
                "GO\r\n",
                "--CREATE SCHEMA LOG\r\n",
                "IF NOT EXISTS (SELECT 1 FROM sys.schemas WHERE name='LOG')\r\n",
                "    EXEC('CREATE SCHEMA LOG');\r\n",
                "GO\r\n",
                "\r\n",
                ""
            ],
            "metadata": {
                "language": "sql",
                "azdata_cell_guid": "3d7c7548-5a2c-4747-966f-74f31205f640"
            },
            "outputs": [],
            "execution_count": null
        },
        {
            "cell_type": "markdown",
            "source": [
                "**CRIANDO UMA TABELA DE LOG**"
            ],
            "metadata": {
                "azdata_cell_guid": "6e878839-43d4-4684-8460-2d35ce4596ef"
            },
            "attachments": {}
        },
        {
            "cell_type": "code",
            "source": [
                "USE [DW_42]\r\n",
                "GO\r\n",
                "IF NOT EXISTS\r\n",
                "  (SELECT * FROM sysobjects WHERE name='LOG_CARGAS2' AND xtype='U')\r\n",
                "\r\n",
                "CREATE TABLE LOGS.LOG_CARGAS2\r\n",
                " (ID INT IDENTITY(1,1) NOT NULL PRIMARY KEY,\r\n",
                " NUMERO_ERRO INT,\r\n",
                " SERVERIDADE_ERRO INT,\r\n",
                " ESTADO_ERRO  INT,\r\n",
                " PROC_ERRO NVARCHAR(255),\r\n",
                " LINHA_ERRO INT,\r\n",
                " MSG_ERRO NVARCHAR(255),\r\n",
                " SITUACAO NVARCHAR(10),\r\n",
                " PROCESSO NVARCHAR(30),\r\n",
                " DATA_INI DATETIME,\r\n",
                " DATA_FIM DATETIME  \r\n",
                " )"
            ],
            "metadata": {
                "azdata_cell_guid": "272ed86a-4101-4407-9120-a48271c28158",
                "language": "sql"
            },
            "outputs": [],
            "execution_count": null
        },
        {
            "cell_type": "markdown",
            "source": [
                "**CRIANDO STAGING CATEGORIA**"
            ],
            "metadata": {
                "language": "sql",
                "azdata_cell_guid": "319e1721-eb31-4c39-92ce-7c5c96c5054e"
            },
            "attachments": {}
        },
        {
            "cell_type": "code",
            "source": [
                "USE DW_42\r\n",
                "GO\r\n",
                "IF NOT EXISTS\r\n",
                "  (SELECT * FROM sysobjects WHERE name='STG_CATEGORIA_ERP' AND xtype='U')\r\n",
                "CREATE TABLE [STAGING].[STG_CATEGORIA_ERP](\r\n",
                "\t[ID_CATEGORIA] [int] NOT NULL,\r\n",
                "\t[NOME_CATEGORIA] [varchar](20) NOT NULL,\r\n",
                "PRIMARY KEY CLUSTERED \r\n",
                "(\r\n",
                "\t[ID_CATEGORIA] ASC\r\n",
                ")WITH (PAD_INDEX = OFF, STATISTICS_NORECOMPUTE = OFF, IGNORE_DUP_KEY = OFF, ALLOW_ROW_LOCKS = ON, ALLOW_PAGE_LOCKS = ON, OPTIMIZE_FOR_SEQUENTIAL_KEY = OFF) ON [PRIMARY]\r\n",
                ") ON [PRIMARY]\r\n",
                "GO\r\n",
                ""
            ],
            "metadata": {
                "language": "sql",
                "azdata_cell_guid": "0796d976-8de8-4d1b-a311-fdda61535753"
            },
            "outputs": [],
            "execution_count": null
        },
        {
            "cell_type": "markdown",
            "source": [
                "**CRIANDO STAGING CIDADE**"
            ],
            "metadata": {
                "language": "sql",
                "azdata_cell_guid": "ac5b973a-ab06-45e5-9143-2d8b79b79779"
            },
            "attachments": {}
        },
        {
            "cell_type": "code",
            "source": [
                "USE DW_42\r\n",
                "GO\r\n",
                "IF NOT EXISTS\r\n",
                "  (SELECT * FROM sysobjects WHERE name='STG_CIDADE_ERP' AND xtype='U')\r\n",
                "CREATE TABLE [STAGING].[STG_CIDADE_ERP](\r\n",
                "\t[ID_CIDADE] [int] NOT NULL,\r\n",
                "\t[NOME_CIDADE] [varchar](60) NOT NULL,\r\n",
                "\t[UF] [varchar](2) NOT NULL,\r\n",
                "PRIMARY KEY CLUSTERED \r\n",
                "(\r\n",
                "\t[ID_CIDADE] ASC\r\n",
                ")WITH (PAD_INDEX = OFF, STATISTICS_NORECOMPUTE = OFF, IGNORE_DUP_KEY = OFF, ALLOW_ROW_LOCKS = ON, ALLOW_PAGE_LOCKS = ON, OPTIMIZE_FOR_SEQUENTIAL_KEY = OFF) ON [PRIMARY]\r\n",
                ") ON [PRIMARY]\r\n",
                "GO"
            ],
            "metadata": {
                "language": "sql",
                "azdata_cell_guid": "311874ea-74b6-4e69-991a-baf5ed42d3ac"
            },
            "outputs": [],
            "execution_count": null
        },
        {
            "cell_type": "markdown",
            "source": [
                "**CRIANDO STAGING CLIENTE**"
            ],
            "metadata": {
                "language": "sql",
                "azdata_cell_guid": "aa656c26-3fda-4284-8af1-b75df63b29c1"
            },
            "attachments": {}
        },
        {
            "cell_type": "code",
            "source": [
                "USE DW_42\r\n",
                "GO\r\n",
                "IF NOT EXISTS\r\n",
                "  (SELECT * FROM sysobjects WHERE name='STG_CLIENTE_ERP' AND xtype='U')\r\n",
                "CREATE TABLE [STAGING].[STG_CLIENTE_ERP](\r\n",
                "\t[ID_CLIENTE] [int]  NOT NULL,\r\n",
                "\t[NOME_CLIENTE] [varchar](60) NOT NULL,\r\n",
                "\t[ENDERECO] [varchar](60) NOT NULL,\r\n",
                "\t[NUMERO] [varchar](10) NOT NULL,\r\n",
                "\t[ID_CIDADE] [int] NOT NULL,\r\n",
                "\t[CEP] [varchar](9) NOT NULL,\r\n",
                "PRIMARY KEY CLUSTERED \r\n",
                "(\r\n",
                "\t[ID_CLIENTE] ASC\r\n",
                ")WITH (PAD_INDEX = OFF, STATISTICS_NORECOMPUTE = OFF, IGNORE_DUP_KEY = OFF, ALLOW_ROW_LOCKS = ON, ALLOW_PAGE_LOCKS = ON, OPTIMIZE_FOR_SEQUENTIAL_KEY = OFF) ON [PRIMARY]\r\n",
                ") ON [PRIMARY]\r\n",
                "GO"
            ],
            "metadata": {
                "language": "sql",
                "azdata_cell_guid": "dbd5b774-7d8e-4714-a311-5edc1ab83f20"
            },
            "outputs": [],
            "execution_count": null
        },
        {
            "cell_type": "markdown",
            "source": [
                "**CRIANDO STAGING PRODUTOS**"
            ],
            "metadata": {
                "language": "sql",
                "azdata_cell_guid": "92389233-1368-47d5-a80c-2e8622b18a17"
            },
            "attachments": {}
        },
        {
            "cell_type": "code",
            "source": [
                "USE DW_42\r\n",
                "GO\r\n",
                "IF NOT EXISTS\r\n",
                "  (SELECT * FROM sysobjects WHERE name='STG_PRODUTOS_ERP' AND xtype='U')\r\n",
                "CREATE TABLE [STAGING].[STG_PRODUTOS_ERP](\r\n",
                "\t[ID_PROD] [int]  NOT NULL,\r\n",
                "\t[NOME_PRODUTO] [varchar](50) NOT NULL,\r\n",
                "\t[ID_CATEGORIA] [int] NOT NULL,\r\n",
                "\t[ID_UNIDADE] [varchar](3) NOT NULL,\r\n",
                "\t[PRECO] [decimal](10, 2) NOT NULL,\r\n",
                "PRIMARY KEY CLUSTERED \r\n",
                "(\r\n",
                "\t[ID_PROD] ASC\r\n",
                ")WITH (PAD_INDEX = OFF, STATISTICS_NORECOMPUTE = OFF, IGNORE_DUP_KEY = OFF, ALLOW_ROW_LOCKS = ON, ALLOW_PAGE_LOCKS = ON, OPTIMIZE_FOR_SEQUENTIAL_KEY = OFF) ON [PRIMARY]\r\n",
                ") ON [PRIMARY]\r\n",
                "GO"
            ],
            "metadata": {
                "language": "sql",
                "azdata_cell_guid": "987b46e4-acef-4e5f-9fa5-187c45ba3131"
            },
            "outputs": [],
            "execution_count": null
        },
        {
            "cell_type": "markdown",
            "source": [
                "**CRIANDO STAGING UNIDADES**"
            ],
            "metadata": {
                "language": "sql",
                "azdata_cell_guid": "590b953f-8866-49c6-8a9f-01aa776dbd91"
            },
            "attachments": {}
        },
        {
            "cell_type": "code",
            "source": [
                "USE DW_42\r\n",
                "GO\r\n",
                "IF NOT EXISTS\r\n",
                "  (SELECT * FROM sysobjects WHERE name='STG_UNIDADE_ERP' AND xtype='U')\r\n",
                "CREATE TABLE [STAGING].[STG_UNIDADE_ERP](\r\n",
                "\t[ID_UNIDADE] [varchar](3) NOT NULL,\r\n",
                "\t[DESC_UNIDADE] [varchar](25) NOT NULL,\r\n",
                "PRIMARY KEY CLUSTERED \r\n",
                "(\r\n",
                "\t[ID_UNIDADE] ASC\r\n",
                ")WITH (PAD_INDEX = OFF, STATISTICS_NORECOMPUTE = OFF, IGNORE_DUP_KEY = OFF, ALLOW_ROW_LOCKS = ON, ALLOW_PAGE_LOCKS = ON, OPTIMIZE_FOR_SEQUENTIAL_KEY = OFF) ON [PRIMARY]\r\n",
                ") ON [PRIMARY]\r\n",
                "GO\r\n",
                ""
            ],
            "metadata": {
                "language": "sql",
                "azdata_cell_guid": "b5d94200-796c-4d5d-8d46-c0ff2f6bd116"
            },
            "outputs": [
                {
                    "output_type": "display_data",
                    "data": {
                        "text/html": "Commands completed successfully."
                    },
                    "metadata": {}
                },
                {
                    "output_type": "display_data",
                    "data": {
                        "text/html": "Commands completed successfully."
                    },
                    "metadata": {}
                },
                {
                    "output_type": "display_data",
                    "data": {
                        "text/html": "Total execution time: 00:00:00.399"
                    },
                    "metadata": {}
                }
            ],
            "execution_count": 10
        },
        {
            "cell_type": "markdown",
            "source": [
                "**CRIANDO STAGING VENDEDORES**"
            ],
            "metadata": {
                "language": "sql",
                "azdata_cell_guid": "c7dcd658-e2a8-4f74-8337-637d25c341c9"
            },
            "attachments": {}
        },
        {
            "cell_type": "code",
            "source": [
                "USE DW_42\r\n",
                "GO\r\n",
                "IF NOT EXISTS\r\n",
                "  (SELECT * FROM sysobjects WHERE name='STG_VENDEDORES_ERP' AND xtype='U')\r\n",
                "CREATE TABLE [STAGING].[STG_VENDEDORES_ERP](\r\n",
                "\t[ID_VENDEDOR] [int] NOT NULL,\r\n",
                "\t[NOME_VENDEDOR] [varchar](60) NOT NULL,\r\n",
                "\t[SALARIO] [decimal](10, 2) NOT NULL,\r\n",
                "PRIMARY KEY CLUSTERED \r\n",
                "(\r\n",
                "\t[ID_VENDEDOR] ASC\r\n",
                ")WITH (PAD_INDEX = OFF, STATISTICS_NORECOMPUTE = OFF, IGNORE_DUP_KEY = OFF, ALLOW_ROW_LOCKS = ON, ALLOW_PAGE_LOCKS = ON, OPTIMIZE_FOR_SEQUENTIAL_KEY = OFF) ON [PRIMARY]\r\n",
                ") ON [PRIMARY]\r\n",
                "GO\r\n",
                "\r\n",
                ""
            ],
            "metadata": {
                "language": "sql",
                "azdata_cell_guid": "059a111b-81d9-46c0-a418-227c508811fa"
            },
            "outputs": [
                {
                    "output_type": "display_data",
                    "data": {
                        "text/html": "Commands completed successfully."
                    },
                    "metadata": {}
                },
                {
                    "output_type": "display_data",
                    "data": {
                        "text/html": "Commands completed successfully."
                    },
                    "metadata": {}
                },
                {
                    "output_type": "display_data",
                    "data": {
                        "text/html": "Total execution time: 00:00:00.406"
                    },
                    "metadata": {}
                }
            ],
            "execution_count": 12
        },
        {
            "cell_type": "markdown",
            "source": [
                "**CRIANDO STAGING VENDAS ITENS**"
            ],
            "metadata": {
                "language": "sql",
                "azdata_cell_guid": "a22c01d2-5944-49a5-8bf9-406a7ca499f1"
            },
            "attachments": {}
        },
        {
            "cell_type": "code",
            "source": [
                "USE DW_42\r\n",
                "GO\r\n",
                "IF NOT EXISTS\r\n",
                "  (SELECT * FROM sysobjects WHERE name='STG_VENDA_ITENS_ERP' AND xtype='U')\r\n",
                "CREATE TABLE [STAGING].[STG_VENDA_ITENS_ERP](\r\n",
                "\t[NUM_VENDA] [int] NOT NULL,\r\n",
                "\t[NUM_SEQ] [int] NOT NULL,\r\n",
                "\t[ID_PROD] [int] NOT NULL,\r\n",
                "\t[QTDE] [decimal](10, 2) NOT NULL,\r\n",
                "\t[VAL_UNIT] [decimal](10, 2) NOT NULL,\r\n",
                "\t[VAL_TOTAL] [decimal](10, 2) NULL\r\n",
                ") ON [PRIMARY]\r\n",
                "GO\r\n",
                "\r\n",
                ""
            ],
            "metadata": {
                "language": "sql",
                "azdata_cell_guid": "7b6183b0-00ce-403d-aee6-78253b6955a7"
            },
            "outputs": [
                {
                    "output_type": "display_data",
                    "data": {
                        "text/html": "Commands completed successfully."
                    },
                    "metadata": {}
                },
                {
                    "output_type": "display_data",
                    "data": {
                        "text/html": "Commands completed successfully."
                    },
                    "metadata": {}
                },
                {
                    "output_type": "display_data",
                    "data": {
                        "text/html": "Total execution time: 00:00:00.410"
                    },
                    "metadata": {}
                }
            ],
            "execution_count": 13
        },
        {
            "cell_type": "markdown",
            "source": [
                "**CRIANDO TABELA STAGING VENDAS**"
            ],
            "metadata": {
                "language": "sql",
                "azdata_cell_guid": "b9e18429-3f83-4ce8-aaf9-c78ba2fdc1c5"
            },
            "attachments": {}
        },
        {
            "cell_type": "code",
            "source": [
                "USE [DW_42]\r\n",
                "GO\r\n",
                "IF NOT EXISTS\r\n",
                "  (SELECT * FROM sysobjects WHERE name='STG_VENDAS_ERP' AND xtype='U')\r\n",
                "CREATE TABLE [STAGING].[STG_VENDAS_ERP](\r\n",
                "\t[NUM_VENDA] [int]  NOT NULL,\r\n",
                "\t[DATA_VENDA] [datetime] NOT NULL,\r\n",
                "\t[ID_CLIENTE] [int] NOT NULL,\r\n",
                "\t[ID_VENDEDOR] [int] NOT NULL,\r\n",
                "\t[STATUS] [char](1) NOT NULL,\r\n",
                "PRIMARY KEY CLUSTERED \r\n",
                "(\r\n",
                "\t[NUM_VENDA] ASC\r\n",
                ")WITH (PAD_INDEX = OFF, STATISTICS_NORECOMPUTE = OFF, IGNORE_DUP_KEY = OFF, ALLOW_ROW_LOCKS = ON, ALLOW_PAGE_LOCKS = ON, OPTIMIZE_FOR_SEQUENTIAL_KEY = OFF) ON [PRIMARY]\r\n",
                ") ON [PRIMARY]\r\n",
                "GO\r\n",
                ""
            ],
            "metadata": {
                "azdata_cell_guid": "701660d7-5a8b-4710-9f3c-e017ed509439",
                "language": "sql"
            },
            "outputs": [
                {
                    "output_type": "display_data",
                    "data": {
                        "text/html": "Commands completed successfully."
                    },
                    "metadata": {}
                },
                {
                    "output_type": "display_data",
                    "data": {
                        "text/html": "Commands completed successfully."
                    },
                    "metadata": {}
                },
                {
                    "output_type": "display_data",
                    "data": {
                        "text/html": "Total execution time: 00:00:00.401"
                    },
                    "metadata": {}
                }
            ],
            "execution_count": 14
        },
        {
            "cell_type": "markdown",
            "source": [
                "**TRUNCANDO OS DADOS DA TABELA**"
            ],
            "metadata": {
                "azdata_cell_guid": "cc7606b5-73de-4be0-bbe6-7ef01df3255b"
            },
            "attachments": {}
        },
        {
            "cell_type": "code",
            "source": [
                "USE DW_42\r\n",
                "GO\r\n",
                "TRUNCATE TABLE STAGING.STG_CATEGORIA_ERP \r\n",
                "GO \r\n",
                "TRUNCATE TABLE STAGING.STG_CIDADE_ERP \r\n",
                "GO \r\n",
                "TRUNCATE TABLE STAGING.STG_CLIENTE_ERP \r\n",
                "GO \r\n",
                "TRUNCATE TABLE STAGING.STG_PRODUTOS_ERP \r\n",
                "GO \r\n",
                "TRUNCATE TABLE STAGING.STG_UNIDADE_ERP \r\n",
                "GO \r\n",
                "TRUNCATE TABLE STAGING.STG_VENDEDORES_ERP \r\n",
                "GO \r\n",
                "TRUNCATE TABLE STAGING.STG_VENDA_ITENS_ERP \r\n",
                "GO \r\n",
                "TRUNCATE TABLE STAGING.STG_VENDAS_ERP \r\n",
                "GO\r\n",
                ""
            ],
            "metadata": {
                "azdata_cell_guid": "ca353ec1-cafd-4491-8958-d50e4aae060d",
                "language": "sql"
            },
            "outputs": [
                {
                    "output_type": "display_data",
                    "data": {
                        "text/html": "Commands completed successfully."
                    },
                    "metadata": {}
                },
                {
                    "output_type": "display_data",
                    "data": {
                        "text/html": "Commands completed successfully."
                    },
                    "metadata": {}
                },
                {
                    "output_type": "display_data",
                    "data": {
                        "text/html": "Commands completed successfully."
                    },
                    "metadata": {}
                },
                {
                    "output_type": "display_data",
                    "data": {
                        "text/html": "Commands completed successfully."
                    },
                    "metadata": {}
                },
                {
                    "output_type": "display_data",
                    "data": {
                        "text/html": "Commands completed successfully."
                    },
                    "metadata": {}
                },
                {
                    "output_type": "display_data",
                    "data": {
                        "text/html": "Commands completed successfully."
                    },
                    "metadata": {}
                },
                {
                    "output_type": "display_data",
                    "data": {
                        "text/html": "Commands completed successfully."
                    },
                    "metadata": {}
                },
                {
                    "output_type": "display_data",
                    "data": {
                        "text/html": "Commands completed successfully."
                    },
                    "metadata": {}
                },
                {
                    "output_type": "display_data",
                    "data": {
                        "text/html": "Commands completed successfully."
                    },
                    "metadata": {}
                },
                {
                    "output_type": "display_data",
                    "data": {
                        "text/html": "Total execution time: 00:00:01.842"
                    },
                    "metadata": {}
                }
            ],
            "execution_count": 15
        },
        {
            "cell_type": "markdown",
            "source": [
                "**CARREGANDO DADOS NA TABELA STAGING**"
            ],
            "metadata": {
                "azdata_cell_guid": "2b61beff-cf5b-4645-a224-7385ff084952"
            },
            "attachments": {}
        },
        {
            "cell_type": "code",
            "source": [
                "USE DW_42\r\n",
                "GO\r\n",
                "\r\n",
                "BEGIN TRANSACTION;  \r\n",
                "\tDECLARE @VDATA_INI DATETIME;\r\n",
                "\tSET @VDATA_INI= GETDATE();\r\n",
                "BEGIN TRY  \r\n",
                "\r\n",
                "--CARGA CATEGORIA\r\n",
                "INSERT INTO DW_42.STAGING.STG_CATEGORIA_ERP ([ID_CATEGORIA] ,[NOME_CATEGORIA])\r\n",
                "SELECT [ID_CATEGORIA] ,[NOME_CATEGORIA] FROM [MINIERP].[dbo].[CATEGORIA]\r\n",
                "--CARGA CIDADE\r\n",
                "INSERT INTO DW_42.STAGING.STG_CIDADE_ERP ([ID_CIDADE],[NOME_CIDADE] ,[UF])\r\n",
                "SELECT [ID_CIDADE],[NOME_CIDADE] ,[UF] FROM [MINIERP].[dbo].[CIDADE]\r\n",
                "--CARGA CLIENTE\r\n",
                "INSERT INTO DW_42.STAGING.STG_CLIENTE_ERP ([ID_CLIENTE],[NOME_CLIENTE],[ENDERECO],[NUMERO],[ID_CIDADE],[CEP])\r\n",
                "SELECT [ID_CLIENTE],[NOME_CLIENTE],[ENDERECO],[NUMERO],[ID_CIDADE],[CEP]  FROM [MINIERP].[dbo].[CLIENTE]\r\n",
                "--CARGA PRODUTO\r\n",
                "INSERT INTO DW_42.STAGING.STG_PRODUTOS_ERP ([ID_PROD],[NOME_PRODUTO],[ID_CATEGORIA],[ID_UNIDADE],[PRECO])\r\n",
                "SELECT [ID_PROD],[NOME_PRODUTO],[ID_CATEGORIA],[ID_UNIDADE],[PRECO] FROM [MINIERP].[dbo].[PRODUTOS]\r\n",
                "--CARGA UNIDADE\r\n",
                "INSERT INTO DW_42.STAGING.STG_UNIDADE_ERP ([ID_UNIDADE],[DESC_UNIDADE])\r\n",
                "SELECT [ID_UNIDADE],[DESC_UNIDADE] FROM [MINIERP].[dbo].[UNIDADE]\r\n",
                "\r\n",
                "--CARGA VENDEDORES\r\n",
                "INSERT INTO DW_42.STAGING.STG_VENDEDORES_ERP ([ID_VENDEDOR],[NOME_VENDEDOR],[SALARIO])\r\n",
                "SELECT [ID_VENDEDOR],[NOME_VENDEDOR],[SALARIO] FROM [MINIERP].[dbo].[VENDEDORES]\r\n",
                "\r\n",
                "--CARGA LOG\r\n",
                "INSERT INTO LOGS.LOG_CARGAS2\r\n",
                "           ([NUMERO_ERRO],\r\n",
                "           [SERVERIDADE_ERRO],\r\n",
                "           [ESTADO_ERRO],\r\n",
                "           [PROC_ERRO],\r\n",
                "           [LINHA_ERRO],\r\n",
                "           [MSG_ERRO],\r\n",
                "           [SITUACAO],\r\n",
                "           [PROCESSO],\r\n",
                "           [DATA_INI],\r\n",
                "\t\t   [DATA_FIM])\r\n",
                "     VALUES\r\n",
                "        (ERROR_NUMBER(),\r\n",
                "        ERROR_SEVERITY(),\r\n",
                "        ERROR_STATE(),\r\n",
                "        ERROR_PROCEDURE(),\r\n",
                "        ERROR_LINE() ,\r\n",
                "        ERROR_MESSAGE() ,\r\n",
                "        'SUCESSO',\r\n",
                "        'CARGA DIMENSOES',\r\n",
                "\t\t@VDATA_INI,\r\n",
                "\t\tGETDATE()\r\n",
                "\t\t)\r\n",
                "\r\n",
                "IF @@TRANCOUNT > 0  \r\n",
                "    COMMIT TRANSACTION;  \r\n",
                " \r\n",
                "\r\n",
                "END TRY  \r\n",
                "--FIM TRY \r\n",
                "--INICA CATCH\r\n",
                "BEGIN CATCH\r\n",
                " \tIF @@TRANCOUNT > 0  \r\n",
                "        ROLLBACK TRANSACTION; \r\n",
                "\r\n",
                "INSERT INTO LOGS.[LOG_CARGAS2]\r\n",
                "           ([NUMERO_ERRO],\r\n",
                "           [SERVERIDADE_ERRO],\r\n",
                "           [ESTADO_ERRO],\r\n",
                "           [PROC_ERRO],\r\n",
                "           [LINHA_ERRO],\r\n",
                "           [MSG_ERRO],\r\n",
                "           [SITUACAO],\r\n",
                "           [PROCESSO],\r\n",
                "           [DATA_INI],\r\n",
                "\t\t   [DATA_FIM])\r\n",
                "     VALUES\r\n",
                "        (ERROR_NUMBER(),\r\n",
                "        ERROR_SEVERITY(),\r\n",
                "        ERROR_STATE(),\r\n",
                "        ERROR_PROCEDURE(),\r\n",
                "        ERROR_LINE() ,\r\n",
                "        ERROR_MESSAGE() ,\r\n",
                "        'ERRO',\r\n",
                "        'CARGA DIMENSOES',\r\n",
                "\t\t@VDATA_INI,\r\n",
                "\t\tGETDATE()\r\n",
                "\t\t)     \r\n",
                "END CATCH;  \r\n",
                ""
            ],
            "metadata": {
                "azdata_cell_guid": "18d050b2-fbf3-4154-be2a-3ae0e1e711f9",
                "language": "sql"
            },
            "outputs": [
                {
                    "output_type": "display_data",
                    "data": {
                        "text/html": "Commands completed successfully."
                    },
                    "metadata": {}
                },
                {
                    "output_type": "display_data",
                    "data": {
                        "text/html": "(5 rows affected)"
                    },
                    "metadata": {}
                },
                {
                    "output_type": "display_data",
                    "data": {
                        "text/html": "(6 rows affected)"
                    },
                    "metadata": {}
                },
                {
                    "output_type": "display_data",
                    "data": {
                        "text/html": "(10 rows affected)"
                    },
                    "metadata": {}
                },
                {
                    "output_type": "display_data",
                    "data": {
                        "text/html": "(15 rows affected)"
                    },
                    "metadata": {}
                },
                {
                    "output_type": "display_data",
                    "data": {
                        "text/html": "(5 rows affected)"
                    },
                    "metadata": {}
                },
                {
                    "output_type": "display_data",
                    "data": {
                        "text/html": "(6 rows affected)"
                    },
                    "metadata": {}
                },
                {
                    "output_type": "display_data",
                    "data": {
                        "text/html": "(1 row affected)"
                    },
                    "metadata": {}
                },
                {
                    "output_type": "display_data",
                    "data": {
                        "text/html": "Total execution time: 00:00:00.411"
                    },
                    "metadata": {}
                }
            ],
            "execution_count": 17
        },
        {
            "cell_type": "markdown",
            "source": [
                "**CARGA REGISTRO MESTRE DE VENDAS**"
            ],
            "metadata": {
                "language": "sql",
                "azdata_cell_guid": "2d3725d4-414a-4ba6-9bba-d3ad3c89cf61"
            },
            "attachments": {}
        },
        {
            "cell_type": "code",
            "source": [
                "USE DW_2\r\n",
                "GO\r\n",
                "\r\n",
                "BEGIN TRANSACTION;  \r\n",
                "\tDECLARE @VDATA_INI DATETIME;\r\n",
                "\tSET @VDATA_INI= GETDATE();\r\n",
                "BEGIN TRY  \r\n",
                "\r\n",
                "INSERT INTO [STAGING].[STG_VENDAS_ERP]\r\n",
                "           ([NUM_VENDA]\r\n",
                "           ,[DATA_VENDA]\r\n",
                "           ,[ID_CLIENTE]\r\n",
                "           ,[ID_VENDEDOR]\r\n",
                "           ,[STATUS])    \r\n",
                "SELECT [NUM_VENDA]\r\n",
                "      ,[DATA_VENDA]\r\n",
                "      ,[ID_CLIENTE]\r\n",
                "      ,[ID_VENDEDOR]\r\n",
                "      ,[STATUS]\r\n",
                "  FROM [MINIERP].[dbo].[VENDAS]\r\n",
                "INSERT INTO LOGS.LOG_CARGAS2\r\n",
                "           ([NUMERO_ERRO],\r\n",
                "           [SERVERIDADE_ERRO],\r\n",
                "           [ESTADO_ERRO],\r\n",
                "           [PROC_ERRO],\r\n",
                "           [LINHA_ERRO],\r\n",
                "           [MSG_ERRO],\r\n",
                "           [SITUACAO],\r\n",
                "           [PROCESSO],\r\n",
                "           [DATA_INI],\r\n",
                "\t\t   [DATA_FIM])\r\n",
                "     VALUES\r\n",
                "        (ERROR_NUMBER(),\r\n",
                "        ERROR_SEVERITY(),\r\n",
                "        ERROR_STATE(),\r\n",
                "        ERROR_PROCEDURE(),\r\n",
                "        ERROR_LINE() ,\r\n",
                "        ERROR_MESSAGE() ,\r\n",
                "        'SUCESSO',\r\n",
                "        'CARGA VENDAS',\r\n",
                "\t\t@VDATA_INI,\r\n",
                "\t\tGETDATE()\r\n",
                "\t\t)\r\n",
                "\r\n",
                "IF @@TRANCOUNT > 0  \r\n",
                "    COMMIT TRANSACTION;  \r\n",
                "\r\n",
                "END TRY  \r\n",
                "BEGIN CATCH\r\n",
                " \tIF @@TRANCOUNT > 0  \r\n",
                "        ROLLBACK TRANSACTION; \r\n",
                "\r\n",
                "INSERT INTO LOGS.[LOG_CARGAS2]\r\n",
                "           ([NUMERO_ERRO],\r\n",
                "           [SERVERIDADE_ERRO],\r\n",
                "           [ESTADO_ERRO],\r\n",
                "           [PROC_ERRO],\r\n",
                "           [LINHA_ERRO],\r\n",
                "           [MSG_ERRO],\r\n",
                "           [SITUACAO],\r\n",
                "           [PROCESSO],\r\n",
                "           [DATA_INI],\r\n",
                "\t\t   [DATA_FIM])\r\n",
                "     VALUES\r\n",
                "        (ERROR_NUMBER(),\r\n",
                "        ERROR_SEVERITY(),\r\n",
                "        ERROR_STATE(),\r\n",
                "        ERROR_PROCEDURE(),\r\n",
                "        ERROR_LINE() ,\r\n",
                "        ERROR_MESSAGE() ,\r\n",
                "        'ERRO',\r\n",
                "        'CARGA VENDAS',\r\n",
                "\t\t@VDATA_INI,\r\n",
                "\t\tGETDATE()\r\n",
                "\t\t)\r\n",
                "\r\n",
                "        \r\n",
                "END CATCH;  \r\n",
                "\r\n",
                "\r\n",
                ""
            ],
            "metadata": {
                "azdata_cell_guid": "535338b0-689f-4e10-aaa1-4c1ec45c30ea",
                "language": "sql"
            },
            "outputs": [
                {
                    "output_type": "error",
                    "evalue": "Msg 911, Level 16, State 1, Line 1\nDatabase 'DW_2' does not exist. Make sure that the name is entered correctly.",
                    "ename": "",
                    "traceback": []
                },
                {
                    "output_type": "display_data",
                    "data": {
                        "text/html": "(975 rows affected)"
                    },
                    "metadata": {}
                },
                {
                    "output_type": "display_data",
                    "data": {
                        "text/html": "(1 row affected)"
                    },
                    "metadata": {}
                },
                {
                    "output_type": "display_data",
                    "data": {
                        "text/html": "Total execution time: 00:00:01.369"
                    },
                    "metadata": {}
                }
            ],
            "execution_count": 18
        },
        {
            "cell_type": "markdown",
            "source": [
                "**CARGA REGISTROS DE VENDAS ITENS**"
            ],
            "metadata": {
                "language": "sql",
                "azdata_cell_guid": "d501e817-66d4-49ff-9e4d-18db5cf355a6"
            },
            "attachments": {}
        },
        {
            "cell_type": "code",
            "source": [
                "USE DW_42\r\n",
                "GO\r\n",
                "\r\n",
                "BEGIN TRANSACTION;  \r\n",
                "\tDECLARE @VDATA_INI DATETIME;\r\n",
                "\tSET @VDATA_INI= GETDATE();\r\n",
                "BEGIN TRY  \r\n",
                "\r\n",
                "INSERT INTO [DW].[STAGING].[STG_VENDA_ITENS_ERP] ([NUM_VENDA],[NUM_SEQ],[ID_PROD],[QTDE],[VAL_UNIT],[VAL_TOTAL]) \r\n",
                "SELECT [NUM_VENDA]\r\n",
                "      ,[NUM_SEQ]\r\n",
                "      ,[ID_PROD]\r\n",
                "      ,[QTDE]\r\n",
                "      ,[VAL_UNIT]\r\n",
                "      ,[VAL_TOTAL]\r\n",
                "  FROM [MINIERP].[dbo].[VENDA_ITENS];\r\n",
                "\r\n",
                "INSERT INTO LOGS.LOG_CARGAS2\r\n",
                "           ([NUMERO_ERRO],\r\n",
                "           [SERVERIDADE_ERRO],\r\n",
                "           [ESTADO_ERRO],\r\n",
                "           [PROC_ERRO],\r\n",
                "           [LINHA_ERRO],\r\n",
                "           [MSG_ERRO],\r\n",
                "           [SITUACAO],\r\n",
                "           [PROCESSO],\r\n",
                "           [DATA_INI],\r\n",
                "\t\t   [DATA_FIM])\r\n",
                "     VALUES\r\n",
                "        (ERROR_NUMBER(),\r\n",
                "        ERROR_SEVERITY(),\r\n",
                "        ERROR_STATE(),\r\n",
                "        ERROR_PROCEDURE(),\r\n",
                "        ERROR_LINE() ,\r\n",
                "        ERROR_MESSAGE() ,\r\n",
                "        'SUCESSO',\r\n",
                "        'CARGA VENDAS ITENS',\r\n",
                "\t\t@VDATA_INI,\r\n",
                "\t\tGETDATE()\r\n",
                "\t\t);\r\n",
                "\r\n",
                "IF @@TRANCOUNT > 0  \r\n",
                "    COMMIT TRANSACTION;  \r\n",
                "END TRY  \r\n",
                "BEGIN CATCH\r\n",
                " \tIF @@TRANCOUNT > 0  \r\n",
                "        ROLLBACK TRANSACTION; \r\n",
                "\r\n",
                "INSERT INTO LOGS.[LOG_CARGAS2]\r\n",
                "           ([NUMERO_ERRO],\r\n",
                "           [SERVERIDADE_ERRO],\r\n",
                "           [ESTADO_ERRO],\r\n",
                "           [PROC_ERRO],\r\n",
                "           [LINHA_ERRO],\r\n",
                "           [MSG_ERRO],\r\n",
                "           [SITUACAO],\r\n",
                "           [PROCESSO],\r\n",
                "           [DATA_INI],\r\n",
                "\t\t   [DATA_FIM])\r\n",
                "     VALUES\r\n",
                "        (ERROR_NUMBER(),\r\n",
                "        ERROR_SEVERITY(),\r\n",
                "        ERROR_STATE(),\r\n",
                "        ERROR_PROCEDURE(),\r\n",
                "        ERROR_LINE() ,\r\n",
                "        ERROR_MESSAGE() ,\r\n",
                "        'ERRO',\r\n",
                "        'CARGA VENDAS ITENS',\r\n",
                "\t\t@VDATA_INI,\r\n",
                "\t\tGETDATE()\r\n",
                "\t\t)\r\n",
                "\r\n",
                "        \r\n",
                "END CATCH;  \r\n",
                "\r\n",
                " \r\n",
                ""
            ],
            "metadata": {
                "language": "sql",
                "azdata_cell_guid": "056d327a-0e0e-4fe1-8e05-1d4880211811"
            },
            "outputs": [
                {
                    "output_type": "display_data",
                    "data": {
                        "text/html": "Commands completed successfully."
                    },
                    "metadata": {}
                },
                {
                    "output_type": "display_data",
                    "data": {
                        "text/html": "(0 rows affected)"
                    },
                    "metadata": {}
                },
                {
                    "output_type": "display_data",
                    "data": {
                        "text/html": "(1 row affected)"
                    },
                    "metadata": {}
                },
                {
                    "output_type": "display_data",
                    "data": {
                        "text/html": "Total execution time: 00:00:00.999"
                    },
                    "metadata": {}
                }
            ],
            "execution_count": 19
        },
        {
            "cell_type": "markdown",
            "source": [
                "**CRIANDO TABELAS DIMENSÕES**"
            ],
            "metadata": {
                "azdata_cell_guid": "7aaf24a2-224c-4089-88cb-157b47bdde5a"
            },
            "attachments": {}
        },
        {
            "cell_type": "code",
            "source": [
                "USE [DW_42]\r\n",
                "GO\r\n",
                "--CRIANDO DIMENSAO  CATEGORIA\r\n",
                "IF NOT EXISTS\r\n",
                " (SELECT * FROM sysobjects WHERE name='DIM_CATEGORIA' AND xtype='U')\r\n",
                "CREATE TABLE SILVER2.[DIM_CATEGORIA](\r\n",
                "\t[SK_Categoria] INT IDENTITY(1,1) NOT NULL,\r\n",
                "\t[Id_Categoria] [int]  NOT NULL,\r\n",
                "\t[NOME_CATEGORIA] [varchar](50) NULL,\r\n",
                "\t[DATA_INI] DATETIME ,\r\n",
                "    [DATA_FIM]  DATETIME ,\r\n",
                "\t[ATIVO] BIT\r\n",
                "PRIMARY KEY CLUSTERED \r\n",
                "(\r\n",
                "\t[SK_Categoria] ASC\r\n",
                ")WITH (PAD_INDEX = OFF, STATISTICS_NORECOMPUTE = OFF, IGNORE_DUP_KEY = OFF, ALLOW_ROW_LOCKS = ON, ALLOW_PAGE_LOCKS = ON, OPTIMIZE_FOR_SEQUENTIAL_KEY = OFF) ON [PRIMARY]\r\n",
                ") ON [PRIMARY]\r\n",
                "GO\r\n",
                "\r\n",
                "--CRIANDO DIMENSAO CIDADE\r\n",
                "IF NOT EXISTS\r\n",
                "  (SELECT * FROM sysobjects WHERE name='DIM_CIDADE' AND xtype='U')\r\n",
                "CREATE TABLE [SILVER2].[DIM_CIDADE](\r\n",
                "\t[SK_Cidade] [int] IDENTITY(1,1) NOT NULL,\r\n",
                "\t[id_Cidade] [int] NOT NULL,\r\n",
                "\t[NOME_CIDADE] [varchar](50) NULL,\r\n",
                "\t[DATA_INI] DATETIME ,\r\n",
                "    [DATA_FIM]  DATETIME ,\r\n",
                "\t[ATIVO] BIT\r\n",
                "PRIMARY KEY CLUSTERED \r\n",
                "(\r\n",
                "\t[SK_Cidade] ASC\r\n",
                ")WITH (PAD_INDEX = OFF, STATISTICS_NORECOMPUTE = OFF, IGNORE_DUP_KEY = OFF, ALLOW_ROW_LOCKS = ON, ALLOW_PAGE_LOCKS = ON, OPTIMIZE_FOR_SEQUENTIAL_KEY = OFF) ON [PRIMARY]\r\n",
                ") ON [PRIMARY]\r\n",
                "GO\r\n",
                "\r\n",
                "--CRIANDO DIMENSAO CLIENTE\r\n",
                "IF NOT EXISTS\r\n",
                "  (SELECT * FROM sysobjects WHERE name='DIM_CLIENTES' AND xtype='U')\r\n",
                "CREATE TABLE [SILVER2].[DIM_CLIENTES](\r\n",
                "\t[SK_CLIENTE] [int] IDENTITY(1,1) NOT NULL, \r\n",
                "\t[ID_CLIENTE] [int]  NOT NULL,\r\n",
                "\t[NOME_CLIENTE] [varchar](60) NOT NULL,\r\n",
                "\t[ENDERECO] [varchar](60) NOT NULL,\r\n",
                "\t[NUMERO] [varchar](10) NOT NULL,\r\n",
                "\t[ID_CIDADE] [int] NOT NULL,\r\n",
                "\t[CEP] [varchar](9) NOT NULL,\r\n",
                "\t[DATA_INI] DATETIME ,\r\n",
                "    [DATA_FIM]  DATETIME ,\r\n",
                "\t[ATIVO] BIT\r\n",
                "PRIMARY KEY CLUSTERED \r\n",
                "(\r\n",
                "\t[SK_CLIENTE] ASC\r\n",
                ")WITH (PAD_INDEX = OFF, STATISTICS_NORECOMPUTE = OFF, IGNORE_DUP_KEY = OFF, ALLOW_ROW_LOCKS = ON, ALLOW_PAGE_LOCKS = ON, OPTIMIZE_FOR_SEQUENTIAL_KEY = OFF) ON [PRIMARY]\r\n",
                ") ON [PRIMARY]\r\n",
                "GO\r\n",
                "\r\n",
                "--CRIANDO DIMENSAO PRODUTOS\r\n",
                "IF NOT EXISTS\r\n",
                "  (SELECT * FROM sysobjects WHERE name='DIM_PRODUTOS' AND xtype='U')\r\n",
                "CREATE TABLE [SILVER2].[DIM_PRODUTOS](\r\n",
                "\t[SK_PROD] [int] IDENTITY(1,1) NOT NULL,\r\n",
                "\t[ID_PROD] [int]  NOT NULL,\r\n",
                "\t[NOME_PRODUTO] [varchar](50) NOT NULL,\r\n",
                "\t[ID_CATEGORIA] [int] NOT NULL,\r\n",
                "\t[ID_UNIDADE] [varchar](3) NOT NULL,\r\n",
                "\t[PRECO] [decimal](10, 2) NOT NULL,\r\n",
                "\t[DATA_INI] DATETIME ,\r\n",
                "    [DATA_FIM]  DATETIME ,\r\n",
                "\t[ATIVO] BIT\r\n",
                "PRIMARY KEY CLUSTERED \r\n",
                "(\r\n",
                "\t[SK_PROD] ASC\r\n",
                ")WITH (PAD_INDEX = OFF, STATISTICS_NORECOMPUTE = OFF, IGNORE_DUP_KEY = OFF, ALLOW_ROW_LOCKS = ON, ALLOW_PAGE_LOCKS = ON, OPTIMIZE_FOR_SEQUENTIAL_KEY = OFF) ON [PRIMARY]\r\n",
                ") ON [PRIMARY]\r\n",
                "GO\r\n",
                "\r\n",
                "--CRIANDO DIMENSAO UNIDADE\r\n",
                "IF NOT EXISTS\r\n",
                "  (SELECT * FROM sysobjects WHERE name='DIM_UNIDADE' AND xtype='U')\r\n",
                "CREATE TABLE [SILVER2].[DIM_UNIDADE](\r\n",
                "\t[SK_UNIDADE] INT IDENTITY(1,1) NOT NULL,\r\n",
                "\t[ID_UNIDADE] [varchar](3) NOT NULL,\r\n",
                "\t[DESC_UNIDADE] [varchar](25) NOT NULL,\r\n",
                "\t[DATA_INI] DATETIME ,\r\n",
                "    [DATA_FIM]  DATETIME ,\r\n",
                "\t[ATIVO] BIT\r\n",
                "PRIMARY KEY CLUSTERED \r\n",
                "(\r\n",
                "\t[SK_UNIDADE] ASC\r\n",
                ")WITH (PAD_INDEX = OFF, STATISTICS_NORECOMPUTE = OFF, IGNORE_DUP_KEY = OFF, ALLOW_ROW_LOCKS = ON, ALLOW_PAGE_LOCKS = ON, OPTIMIZE_FOR_SEQUENTIAL_KEY = OFF) ON [PRIMARY]\r\n",
                ") ON [PRIMARY]\r\n",
                "GO\r\n",
                "--CRIANDO DIMENSAO VENDEDORES\r\n",
                "IF NOT EXISTS\r\n",
                "  (SELECT * FROM sysobjects WHERE name='DIM_VENDEDORES' AND xtype='U')\r\n",
                "CREATE TABLE [SILVER2].[DIM_VENDEDORES](\r\n",
                "\t[SK_VENDEDOR] [int] IDENTITY(1,1) NOT NULL,\r\n",
                "\t[ID_VENDEDOR] [int] NOT NULL,\r\n",
                "\t[NOME_VENDEDOR] [varchar](60) NOT NULL,\r\n",
                "\t[SALARIO] [decimal](10, 2) NOT NULL,\r\n",
                "\t[DATA_INI] DATETIME ,\r\n",
                "    [DATA_FIM]  DATETIME ,\r\n",
                "\t[ATIVO] BIT\r\n",
                "PRIMARY KEY CLUSTERED \r\n",
                "(\r\n",
                "\t[SK_VENDEDOR] ASC\r\n",
                ")WITH (PAD_INDEX = OFF, STATISTICS_NORECOMPUTE = OFF, IGNORE_DUP_KEY = OFF, ALLOW_ROW_LOCKS = ON, ALLOW_PAGE_LOCKS = ON, OPTIMIZE_FOR_SEQUENTIAL_KEY = OFF) ON [PRIMARY]\r\n",
                ") ON [PRIMARY]\r\n",
                "\r\n",
                ""
            ],
            "metadata": {
                "azdata_cell_guid": "0ad80e24-2cc6-4087-b1b3-c460b8082a54",
                "language": "sql",
                "tags": []
            },
            "outputs": [
                {
                    "output_type": "display_data",
                    "data": {
                        "text/html": "Commands completed successfully."
                    },
                    "metadata": {}
                },
                {
                    "output_type": "display_data",
                    "data": {
                        "text/html": "Commands completed successfully."
                    },
                    "metadata": {}
                },
                {
                    "output_type": "display_data",
                    "data": {
                        "text/html": "Commands completed successfully."
                    },
                    "metadata": {}
                },
                {
                    "output_type": "display_data",
                    "data": {
                        "text/html": "Commands completed successfully."
                    },
                    "metadata": {}
                },
                {
                    "output_type": "display_data",
                    "data": {
                        "text/html": "Commands completed successfully."
                    },
                    "metadata": {}
                },
                {
                    "output_type": "display_data",
                    "data": {
                        "text/html": "Commands completed successfully."
                    },
                    "metadata": {}
                },
                {
                    "output_type": "display_data",
                    "data": {
                        "text/html": "Commands completed successfully."
                    },
                    "metadata": {}
                },
                {
                    "output_type": "display_data",
                    "data": {
                        "text/html": "Total execution time: 00:00:01.442"
                    },
                    "metadata": {}
                }
            ],
            "execution_count": 20
        },
        {
            "cell_type": "markdown",
            "source": [
                "**CARGA DIMENSÃO CATEGORIA**"
            ],
            "metadata": {
                "azdata_cell_guid": "149f1945-ef02-4c47-9d85-a1687560792e"
            },
            "attachments": {}
        },
        {
            "cell_type": "code",
            "source": [
                "USE DW_42\r\n",
                "GO\r\n",
                "BEGIN TRANSACTION;  \r\n",
                "\tDECLARE @VDATA_INI DATETIME;\r\n",
                "\tSET @VDATA_INI= GETDATE();\r\n",
                "BEGIN TRY  \r\n",
                "--INICIA MERGE\r\n",
                "INSERT INTO DW_42.SILVER2.DIM_CATEGORIA (Id_Categoria,NOME_CATEGORIA,DATA_INI,DATA_FIM,ATIVO) \r\n",
                "SELECT Id_Categoria,NOME_CATEGORIA,DATA_INI,DATA_FIM,ATIVO\r\n",
                "FROM (\r\n",
                "MERGE DW_42.SILVER2.DIM_CATEGORIA AS DESTINO\r\n",
                "\r\n",
                "USING (SELECT * FROM DW_42.STAGING.STG_CATEGORIA_ERP) AS ORIGEM\r\n",
                "\r\n",
                "ON DESTINO.[Id_Categoria] = ORIGEM.[Id_Categoria]\r\n",
                "-- Há registro no destino e na origem mas com nomes diferente, update data fim\r\n",
                "WHEN MATCHED \r\n",
                "AND (DESTINO.NOME_CATEGORIA <> ORIGEM.NOME_CATEGORIA)\r\n",
                "AND DESTINO.ATIVO=1\r\n",
                "THEN \r\n",
                "--ATUALIZA DATA FIM NO REGISTRO ANTIGO      \r\n",
                "     UPDATE SET  DESTINO.DATA_FIM = GETDATE(),DESTINO.ATIVO=0\r\n",
                "\r\n",
                "--Quando não há registro no destino e há na origem, insere\r\n",
                "WHEN NOT MATCHED \r\n",
                "THEN \r\n",
                "    INSERT (Id_Categoria,NOME_CATEGORIA,DATA_INI,DATA_FIM,ATIVO) VALUES (ORIGEM.Id_Categoria,ORIGEM.NOME_CATEGORIA,GETDATE(),NULL,1)\r\n",
                "-- Use os registros de origem que precisam ser inseridos no Dim por causa da atualização\r\n",
                " OUTPUT $action, \r\n",
                "    ORIGEM.Id_Categoria, \r\n",
                "    ORIGEM.NOME_CATEGORIA,\r\n",
                "    getdate(),\r\n",
                "    null,\r\n",
                "\t1\r\n",
                ") \r\n",
                "as changes \r\n",
                "(\r\n",
                "  action, \r\n",
                "  Id_Categoria,\r\n",
                "  NOME_CATEGORIA,\r\n",
                "  DATA_INI,\r\n",
                "  DATA_FIM,\r\n",
                "  ATIVO\r\n",
                ")\r\n",
                "where action='UPDATE';\r\n",
                "\r\n",
                "INSERT INTO DW_42.LOGS.LOG_CARGAS2\r\n",
                "           ([NUMERO_ERRO],\r\n",
                "           [SERVERIDADE_ERRO],\r\n",
                "           [ESTADO_ERRO],\r\n",
                "           [PROC_ERRO],\r\n",
                "           [LINHA_ERRO],\r\n",
                "           [MSG_ERRO],\r\n",
                "           [SITUACAO],\r\n",
                "           [PROCESSO],\r\n",
                "           [DATA_INI],\r\n",
                "\t\t   [DATA_FIM])\r\n",
                "     VALUES\r\n",
                "        (ERROR_NUMBER(),\r\n",
                "        ERROR_SEVERITY(),\r\n",
                "        ERROR_STATE(),\r\n",
                "        ERROR_PROCEDURE(),\r\n",
                "        ERROR_LINE() ,\r\n",
                "        ERROR_MESSAGE() ,\r\n",
                "        'SUCESSO',\r\n",
                "       'CARGA CATEGORIA',\r\n",
                "\t\t@VDATA_INI,\r\n",
                "\t\tGETDATE()\r\n",
                "\t\t)\r\n",
                "\r\n",
                "IF @@TRANCOUNT > 0  \r\n",
                "    SELECT @@TRANCOUNT,'Sucesso';\r\n",
                "    COMMIT TRANSACTION;  \r\n",
                "\r\n",
                "\r\n",
                "--TERMINA MERGE\r\n",
                "END TRY  \r\n",
                "BEGIN CATCH\r\n",
                "    SELECT @@TRANCOUNT,'ERRO';\r\n",
                " \tIF @@TRANCOUNT > 0  \r\n",
                "        ROLLBACK TRANSACTION; \r\n",
                "\r\n",
                "INSERT INTO[DW_42].[LOGS].[LOG_CARGAS2]\r\n",
                "           ([NUMERO_ERRO],\r\n",
                "           [SERVERIDADE_ERRO],\r\n",
                "           [ESTADO_ERRO],\r\n",
                "           [PROC_ERRO],\r\n",
                "           [LINHA_ERRO],\r\n",
                "           [MSG_ERRO],\r\n",
                "           [SITUACAO],\r\n",
                "           [PROCESSO],\r\n",
                "           [DATA_INI],\r\n",
                "\t\t   [DATA_FIM])\r\n",
                "     VALUES\r\n",
                "        (ERROR_NUMBER(),\r\n",
                "        ERROR_SEVERITY(),\r\n",
                "        ERROR_STATE(),\r\n",
                "        ERROR_PROCEDURE(),\r\n",
                "        ERROR_LINE() ,\r\n",
                "        ERROR_MESSAGE() ,\r\n",
                "        'ERRO',\r\n",
                "        'CARGA CATEGORIA',\r\n",
                "\t\t@VDATA_INI,\r\n",
                "\t\tGETDATE()\r\n",
                "\t\t)\r\n",
                "\r\n",
                "        \r\n",
                "END CATCH;  \r\n",
                "\r\n",
                "\r\n",
                "\r\n",
                " \r\n",
                ""
            ],
            "metadata": {
                "azdata_cell_guid": "9673c660-db5a-4297-8369-62e8361c14af",
                "language": "sql"
            },
            "outputs": [
                {
                    "output_type": "display_data",
                    "data": {
                        "text/html": "Commands completed successfully."
                    },
                    "metadata": {}
                },
                {
                    "output_type": "display_data",
                    "data": {
                        "text/html": "(0 rows affected)"
                    },
                    "metadata": {}
                },
                {
                    "output_type": "display_data",
                    "data": {
                        "text/html": "(1 row affected)"
                    },
                    "metadata": {}
                },
                {
                    "output_type": "display_data",
                    "data": {
                        "text/html": "(1 row affected)"
                    },
                    "metadata": {}
                },
                {
                    "output_type": "display_data",
                    "data": {
                        "text/html": "Total execution time: 00:00:00.664"
                    },
                    "metadata": {}
                },
                {
                    "output_type": "execute_result",
                    "metadata": {},
                    "execution_count": 21,
                    "data": {
                        "application/vnd.dataresource+json": {
                            "schema": {
                                "fields": [
                                    {
                                        "name": "(No column name)"
                                    },
                                    {
                                        "name": "(No column name)"
                                    }
                                ]
                            },
                            "data": [
                                {
                                    "0": "1",
                                    "1": "Sucesso"
                                }
                            ]
                        },
                        "text/html": [
                            "<table>",
                            "<tr><th>(No column name)</th><th>(No column name)</th></tr>",
                            "<tr><td>1</td><td>Sucesso</td></tr>",
                            "</table>"
                        ]
                    }
                }
            ],
            "execution_count": 21
        },
        {
            "cell_type": "markdown",
            "source": [
                "**CARGA DIMENSAO CIDADE**"
            ],
            "metadata": {
                "azdata_cell_guid": "230d55e8-074d-448b-9547-760c6d8cab0b"
            },
            "attachments": {}
        },
        {
            "cell_type": "code",
            "source": [
                "USE DW_42\r\n",
                "GO\r\n",
                "BEGIN TRANSACTION;  \r\n",
                "   DECLARE @VDATA_INI DATETIME;\r\n",
                "    DECLARE @VPROCESSO VARCHAR(30);\r\n",
                "    SET @VDATA_INI= GETDATE();\r\n",
                "    SET @VPROCESSO= 'CARGA DIMENSAO CIDADE'\r\n",
                "BEGIN TRY  \r\n",
                "--INICIA MERGE\r\n",
                "\r\n",
                "INSERT INTO DW_42.SILVER2.DIM_CIDADE (id_Cidade,NOME_CIDADE,DATA_INI,DATA_FIM,ATIVO) \r\n",
                "SELECT id_Cidade,NOME_CIDADE,DATA_INI,DATA_FIM,ATIVO\r\n",
                "FROM (\r\n",
                "MERGE DW_42.SILVER2.DIM_CIDADE AS DESTINO\r\n",
                "\r\n",
                "USING (SELECT * FROM DW_42.STAGING.STG_CIDADE_ERP) AS ORIGEM\r\n",
                "\r\n",
                "ON DESTINO.[ID_CIDADE] = ORIGEM.[ID_CIDADE]\r\n",
                "-- Há registro no destino e na origem mas com nomes diferente, update data fim\r\n",
                "WHEN MATCHED \r\n",
                "AND (DESTINO.NOME_CIDADE <> ORIGEM.NOME_CIDADE)\r\n",
                "AND DESTINO.ATIVO=1\r\n",
                "THEN \r\n",
                "--ATUALIZA DATA FIM NO REGISTRO ANTIGO      \r\n",
                "     UPDATE SET  DESTINO.DATA_FIM = GETDATE(),DESTINO.ATIVO=0\r\n",
                "\r\n",
                "--Quando não há registro no destino e há na origem, insere\r\n",
                "WHEN NOT MATCHED \r\n",
                "THEN \r\n",
                "    INSERT (id_Cidade,NOME_CIDADE,DATA_INI,DATA_FIM,ATIVO) VALUES (ORIGEM.id_Cidade,ORIGEM.NOME_CIDADE,GETDATE(),NULL,1)\r\n",
                "-- Use os registros de origem que precisam ser inseridos no Dim por causa da atualização\r\n",
                " OUTPUT $action, \r\n",
                "    ORIGEM.id_Cidade, \r\n",
                "    ORIGEM.NOME_CIDADE,\r\n",
                "    getdate(),\r\n",
                "    null,\r\n",
                "\t1\r\n",
                ") \r\n",
                "as changes \r\n",
                "(\r\n",
                "  action, \r\n",
                "  id_Cidade,\r\n",
                "  NOME_CIDADE,\r\n",
                "  DATA_INI,\r\n",
                "  DATA_FIM,\r\n",
                "  ATIVO\r\n",
                ")\r\n",
                "where action='UPDATE';\r\n",
                "--Grava Log\r\n",
                "INSERT INTO [LOGS].[LOG_CARGAS2]\r\n",
                "           ([NUMERO_ERRO],\r\n",
                "           [SERVERIDADE_ERRO],\r\n",
                "           [ESTADO_ERRO],\r\n",
                "           [PROC_ERRO],\r\n",
                "           [LINHA_ERRO],\r\n",
                "           [MSG_ERRO],\r\n",
                "           [SITUACAO],\r\n",
                "           [PROCESSO],\r\n",
                "           [DATA_INI],\r\n",
                "\t\t   [DATA_FIM])\r\n",
                "     VALUES\r\n",
                "        (ERROR_NUMBER(),\r\n",
                "        ERROR_SEVERITY(),\r\n",
                "        ERROR_STATE(),\r\n",
                "        ERROR_PROCEDURE(),\r\n",
                "        ERROR_LINE() ,\r\n",
                "        ERROR_MESSAGE() ,\r\n",
                "        'SUCESSO',\r\n",
                "        @VPROCESSO,\r\n",
                "\t\t@VDATA_INI,\r\n",
                "\t\tGETDATE()\r\n",
                "\t\t)\r\n",
                "\r\n",
                "IF @@TRANCOUNT > 0  \r\n",
                "    COMMIT TRANSACTION;  \r\n",
                "\r\n",
                "\r\n",
                "END TRY  \r\n",
                "BEGIN CATCH\r\n",
                " \tIF @@TRANCOUNT > 0  \r\n",
                "        ROLLBACK TRANSACTION; \r\n",
                "\r\n",
                "INSERT INTO [LOGS].[LOG_CARGAS2]\r\n",
                "           ([NUMERO_ERRO],\r\n",
                "           [SERVERIDADE_ERRO],\r\n",
                "           [ESTADO_ERRO],\r\n",
                "           [PROC_ERRO],\r\n",
                "           [LINHA_ERRO],\r\n",
                "           [MSG_ERRO],\r\n",
                "           [SITUACAO],\r\n",
                "           [PROCESSO],\r\n",
                "           [DATA_INI],\r\n",
                "\t\t   [DATA_FIM])\r\n",
                "     VALUES\r\n",
                "        (ERROR_NUMBER(),\r\n",
                "        ERROR_SEVERITY(),\r\n",
                "        ERROR_STATE(),\r\n",
                "        ERROR_PROCEDURE(),\r\n",
                "        ERROR_LINE() ,\r\n",
                "        ERROR_MESSAGE() ,\r\n",
                "        'ERRO',\r\n",
                "        @VPROCESSO,\r\n",
                "\t\t@VDATA_INI,\r\n",
                "\t\tGETDATE()\r\n",
                "\t\t)\r\n",
                "\r\n",
                "        \r\n",
                "END CATCH;  \r\n",
                "\r\n",
                "\r\n",
                ""
            ],
            "metadata": {
                "azdata_cell_guid": "869b4d14-5311-443e-837b-abf85e092223",
                "language": "sql"
            },
            "outputs": [
                {
                    "output_type": "display_data",
                    "data": {
                        "text/html": "Commands completed successfully."
                    },
                    "metadata": {}
                },
                {
                    "output_type": "display_data",
                    "data": {
                        "text/html": "(0 rows affected)"
                    },
                    "metadata": {}
                },
                {
                    "output_type": "display_data",
                    "data": {
                        "text/html": "(1 row affected)"
                    },
                    "metadata": {}
                },
                {
                    "output_type": "display_data",
                    "data": {
                        "text/html": "Total execution time: 00:00:00.436"
                    },
                    "metadata": {}
                }
            ],
            "execution_count": 23
        },
        {
            "cell_type": "markdown",
            "source": [
                "**CARGA DIMENSÃO CLIENTE**"
            ],
            "metadata": {
                "language": "sql",
                "azdata_cell_guid": "056cf74e-4158-4043-ae63-d0c96de4fbc2"
            },
            "attachments": {}
        },
        {
            "cell_type": "code",
            "source": [
                "USE DW_42\r\n",
                "GO\r\n",
                "BEGIN TRANSACTION;  \r\n",
                "   DECLARE @VDATA_INI DATETIME;\r\n",
                "    DECLARE @VPROCESSO VARCHAR(30);\r\n",
                "    SET @VDATA_INI= GETDATE();\r\n",
                "    SET @VPROCESSO= 'CARGA DIMENSAO CLIENTE'\r\n",
                "BEGIN TRY  \r\n",
                "--INICIA MERGE\r\n",
                "\r\n",
                "INSERT INTO DW_42.SILVER2.DIM_CLIENTES (ID_CLIENTE,NOME_CLIENTE,ENDERECO,NUMERO,ID_CIDADE,CEP,DATA_INI,DATA_FIM,ATIVO) \r\n",
                "SELECT ID_CLIENTE,NOME_CLIENTE,ENDERECO,NUMERO,ID_CIDADE,CEP,DATA_INI,DATA_FIM,ATIVO\r\n",
                "FROM (\r\n",
                "MERGE DW_42.SILVER2.DIM_CLIENTES AS DESTINO\r\n",
                "\r\n",
                "USING (SELECT * FROM DW_42.STAGING.STG_CLIENTE_ERP) AS ORIGEM\r\n",
                "\r\n",
                "ON DESTINO.[ID_CLIENTE] = ORIGEM.[ID_CLIENTE]\r\n",
                "-- Há registro no destino e na origem mas com nomes diferente, update data fim\r\n",
                "WHEN MATCHED \r\n",
                "AND (DESTINO.NOME_CLIENTE <> ORIGEM.NOME_CLIENTE)\r\n",
                "AND DESTINO.ATIVO=1\r\n",
                "THEN \r\n",
                "--ATUALIZA DATA FIM NO REGISTRO ANTIGO      \r\n",
                "     UPDATE SET  DESTINO.DATA_FIM = GETDATE(),DESTINO.ATIVO=0\r\n",
                "\r\n",
                "--Quando não há registro no destino e há na origem, insere\r\n",
                "WHEN NOT MATCHED \r\n",
                "THEN \r\n",
                "    INSERT (ID_CLIENTE,NOME_CLIENTE,ENDERECO,NUMERO,ID_CIDADE,CEP,DATA_INI,DATA_FIM,ATIVO) \r\n",
                "    VALUES (ORIGEM.ID_CLIENTE,ORIGEM.NOME_CLIENTE,ORIGEM.ENDERECO,ORIGEM.NUMERO,ORIGEM.ID_CIDADE,ORIGEM.CEP,GETDATE(),NULL,1)\r\n",
                "-- Use os registros de origem que precisam ser inseridos no Dim por causa da atualização\r\n",
                " OUTPUT $action, \r\n",
                "    ORIGEM.ID_CLIENTE,ORIGEM.NOME_CLIENTE,ORIGEM.ENDERECO,ORIGEM.NUMERO,ORIGEM.ID_CIDADE,ORIGEM.CEP,GETDATE(),NULL,1\r\n",
                ") \r\n",
                "as changes \r\n",
                "(\r\n",
                "  action, \r\n",
                "  ID_CLIENTE,NOME_CLIENTE,ENDERECO,NUMERO,ID_CIDADE,CEP,DATA_INI,DATA_FIM,ATIVO\r\n",
                ")\r\n",
                "where action='UPDATE';\r\n",
                "\r\n",
                "--GRAVA LOG\r\n",
                "INSERT INTO [LOGS].[LOG_CARGAS2]\r\n",
                "           ([NUMERO_ERRO],\r\n",
                "           [SERVERIDADE_ERRO],\r\n",
                "           [ESTADO_ERRO],\r\n",
                "           [PROC_ERRO],\r\n",
                "           [LINHA_ERRO],\r\n",
                "           [MSG_ERRO],\r\n",
                "           [SITUACAO],\r\n",
                "           [PROCESSO],\r\n",
                "           [DATA_INI],\r\n",
                "\t\t   [DATA_FIM])\r\n",
                "     VALUES\r\n",
                "        (ERROR_NUMBER(),\r\n",
                "        ERROR_SEVERITY(),\r\n",
                "        ERROR_STATE(),\r\n",
                "        ERROR_PROCEDURE(),\r\n",
                "        ERROR_LINE() ,\r\n",
                "        ERROR_MESSAGE() ,\r\n",
                "        'SUCESSO',\r\n",
                "        @VPROCESSO,\r\n",
                "\t\t@VDATA_INI,\r\n",
                "\t\tGETDATE()\r\n",
                "\t\t)\r\n",
                "\r\n",
                "IF @@TRANCOUNT > 0  \r\n",
                "    COMMIT TRANSACTION;  \r\n",
                "\r\n",
                "END TRY  \r\n",
                "BEGIN CATCH\r\n",
                " \tIF @@TRANCOUNT > 0  \r\n",
                "        ROLLBACK TRANSACTION; \r\n",
                "\r\n",
                "INSERT INTO [LOGS].[LOG_CARGAS2]\r\n",
                "           ([NUMERO_ERRO],\r\n",
                "           [SERVERIDADE_ERRO],\r\n",
                "           [ESTADO_ERRO],\r\n",
                "           [PROC_ERRO],\r\n",
                "           [LINHA_ERRO],\r\n",
                "           [MSG_ERRO],\r\n",
                "           [SITUACAO],\r\n",
                "           [PROCESSO],\r\n",
                "           [DATA_INI],\r\n",
                "\t\t   [DATA_FIM])\r\n",
                "     VALUES\r\n",
                "        (ERROR_NUMBER(),\r\n",
                "        ERROR_SEVERITY(),\r\n",
                "        ERROR_STATE(),\r\n",
                "        ERROR_PROCEDURE(),\r\n",
                "        ERROR_LINE() ,\r\n",
                "        ERROR_MESSAGE() ,\r\n",
                "        'ERRO',\r\n",
                "        @VPROCESSO,\r\n",
                "\t\t@VDATA_INI,\r\n",
                "\t\tGETDATE()\r\n",
                "\t\t)\r\n",
                "     \r\n",
                "END CATCH;  \r\n",
                "\r\n",
                "\r\n",
                ""
            ],
            "metadata": {
                "azdata_cell_guid": "bbee8bb7-0db8-4782-b798-77a67a569bd0",
                "language": "sql"
            },
            "outputs": [
                {
                    "output_type": "display_data",
                    "data": {
                        "text/html": "Commands completed successfully."
                    },
                    "metadata": {}
                },
                {
                    "output_type": "display_data",
                    "data": {
                        "text/html": "(0 rows affected)"
                    },
                    "metadata": {}
                },
                {
                    "output_type": "display_data",
                    "data": {
                        "text/html": "(1 row affected)"
                    },
                    "metadata": {}
                },
                {
                    "output_type": "display_data",
                    "data": {
                        "text/html": "Total execution time: 00:00:00.424"
                    },
                    "metadata": {}
                }
            ],
            "execution_count": 24
        },
        {
            "cell_type": "markdown",
            "source": [
                "**CARGA DIMENSÃO PRODUTOS**"
            ],
            "metadata": {
                "azdata_cell_guid": "f33e9217-69a7-48c4-a5e8-a865e240a9e6"
            },
            "attachments": {}
        },
        {
            "cell_type": "code",
            "source": [
                "USE DW_42\r\n",
                "GO\r\n",
                "BEGIN TRANSACTION;  \r\n",
                "   DECLARE @VDATA_INI DATETIME;\r\n",
                "    DECLARE @VPROCESSO VARCHAR(30);\r\n",
                "    SET @VDATA_INI= GETDATE();\r\n",
                "    SET @VPROCESSO= 'CARGA DIMENSAO PRODUTOS'\r\n",
                "BEGIN TRY  \r\n",
                "--INICIA MERGE\r\n",
                "INSERT INTO DW_42.SILVER2.DIM_PRODUTOS (ID_PROD,NOME_PRODUTO,ID_CATEGORIA,ID_UNIDADE,PRECO,DATA_INI,DATA_FIM,ATIVO) \r\n",
                "SELECT ID_PROD,NOME_PRODUTO,ID_CATEGORIA,ID_UNIDADE,PRECO,DATA_INI,DATA_FIM,ATIVO\r\n",
                "FROM (\r\n",
                "MERGE DW_42.SILVER2.DIM_PRODUTOS AS DESTINO\r\n",
                "\r\n",
                "USING (SELECT * FROM DW_42.STAGING.STG_PRODUTOS_ERP) AS ORIGEM\r\n",
                "\r\n",
                "ON DESTINO.[ID_PROD] = ORIGEM.[ID_PROD]\r\n",
                "-- Há registro no destino e na origem mas com nomes diferente, update data fim\r\n",
                "WHEN MATCHED \r\n",
                "AND (DESTINO.NOME_PRODUTO <> ORIGEM.NOME_PRODUTO)\r\n",
                "AND DESTINO.ATIVO=1\r\n",
                "THEN \r\n",
                "--ATUALIZA DATA FIM NO REGISTRO ANTIGO      \r\n",
                "     UPDATE SET  DESTINO.DATA_FIM = GETDATE(),DESTINO.ATIVO=0\r\n",
                "\r\n",
                "--Quando não há registro no destino e há na origem, insere\r\n",
                "WHEN NOT MATCHED \r\n",
                "THEN \r\n",
                "    INSERT (ID_PROD,NOME_PRODUTO,ID_CATEGORIA,ID_UNIDADE,PRECO,DATA_INI,DATA_FIM,ATIVO) \r\n",
                "    VALUES (ORIGEM.ID_PROD,ORIGEM.NOME_PRODUTO,ORIGEM.ID_CATEGORIA,ORIGEM.ID_UNIDADE,ORIGEM.PRECO,GETDATE(),NULL,1)\r\n",
                "-- Use os registros de origem que precisam ser inseridos no Dim por causa da atualização\r\n",
                " OUTPUT $action, \r\n",
                "    ORIGEM.ID_PROD,ORIGEM.NOME_PRODUTO,ORIGEM.ID_CATEGORIA,ORIGEM.ID_UNIDADE,ORIGEM.PRECO,\r\n",
                "    getdate(),\r\n",
                "    null,\r\n",
                "\t1\r\n",
                ") \r\n",
                "as changes \r\n",
                "(\r\n",
                "  action, \r\n",
                "  ID_PROD,NOME_PRODUTO,ID_CATEGORIA,ID_UNIDADE,PRECO,DATA_INI,DATA_FIM,ATIVO\r\n",
                ")\r\n",
                "where action='UPDATE';\r\n",
                "--GRAVA LOG\r\n",
                "INSERT INTO [LOGS].[LOG_CARGAS2]\r\n",
                "           ([NUMERO_ERRO],\r\n",
                "           [SERVERIDADE_ERRO],\r\n",
                "           [ESTADO_ERRO],\r\n",
                "           [PROC_ERRO],\r\n",
                "           [LINHA_ERRO],\r\n",
                "           [MSG_ERRO],\r\n",
                "           [SITUACAO],\r\n",
                "           [PROCESSO],\r\n",
                "           [DATA_INI],\r\n",
                "\t\t   [DATA_FIM])\r\n",
                "     VALUES\r\n",
                "        (ERROR_NUMBER(),\r\n",
                "        ERROR_SEVERITY(),\r\n",
                "        ERROR_STATE(),\r\n",
                "        ERROR_PROCEDURE(),\r\n",
                "        ERROR_LINE() ,\r\n",
                "        ERROR_MESSAGE() ,\r\n",
                "        'SUCESSO',\r\n",
                "        @VPROCESSO,\r\n",
                "\t\t@VDATA_INI,\r\n",
                "\t\tGETDATE()\r\n",
                "\t\t)\r\n",
                "\r\n",
                "IF @@TRANCOUNT > 0  \r\n",
                "    COMMIT TRANSACTION;  \r\n",
                "\r\n",
                "--FIM MERGE\r\n",
                "END TRY  \r\n",
                "BEGIN CATCH\r\n",
                " \tIF @@TRANCOUNT > 0  \r\n",
                "        ROLLBACK TRANSACTION; \r\n",
                "\r\n",
                "INSERT INTO [LOGS].[LOG_CARGAS2]\r\n",
                "           ([NUMERO_ERRO],\r\n",
                "           [SERVERIDADE_ERRO],\r\n",
                "           [ESTADO_ERRO],\r\n",
                "           [PROC_ERRO],\r\n",
                "           [LINHA_ERRO],\r\n",
                "           [MSG_ERRO],\r\n",
                "           [SITUACAO],\r\n",
                "           [PROCESSO],\r\n",
                "           [DATA_INI],\r\n",
                "\t\t   [DATA_FIM])\r\n",
                "     VALUES\r\n",
                "        (ERROR_NUMBER(),\r\n",
                "        ERROR_SEVERITY(),\r\n",
                "        ERROR_STATE(),\r\n",
                "        ERROR_PROCEDURE(),\r\n",
                "        ERROR_LINE() ,\r\n",
                "        ERROR_MESSAGE() ,\r\n",
                "        'ERRO',\r\n",
                "        @VPROCESSO,\r\n",
                "\t\t@VDATA_INI,\r\n",
                "\t\tGETDATE()\r\n",
                "\t\t)\r\n",
                "\r\n",
                "        \r\n",
                "END CATCH;  \r\n",
                "\r\n",
                "\r\n",
                ""
            ],
            "metadata": {
                "azdata_cell_guid": "a573178f-86b5-4308-9eca-a71a93279962",
                "language": "sql"
            },
            "outputs": [
                {
                    "output_type": "display_data",
                    "data": {
                        "text/html": "Commands completed successfully."
                    },
                    "metadata": {}
                },
                {
                    "output_type": "display_data",
                    "data": {
                        "text/html": "(0 rows affected)"
                    },
                    "metadata": {}
                },
                {
                    "output_type": "display_data",
                    "data": {
                        "text/html": "(1 row affected)"
                    },
                    "metadata": {}
                },
                {
                    "output_type": "display_data",
                    "data": {
                        "text/html": "Total execution time: 00:00:00.420"
                    },
                    "metadata": {}
                }
            ],
            "execution_count": 25
        },
        {
            "cell_type": "markdown",
            "source": [
                "**CARGA DIMENSÃO UNIDADE**"
            ],
            "metadata": {
                "azdata_cell_guid": "27a26e00-6135-4f6d-9234-af84d1c23085"
            },
            "attachments": {}
        },
        {
            "cell_type": "code",
            "source": [
                "USE DW_42\r\n",
                "GO\r\n",
                "BEGIN TRANSACTION;  \r\n",
                "   DECLARE @VDATA_INI DATETIME;\r\n",
                "    DECLARE @VPROCESSO VARCHAR(30);\r\n",
                "    SET @VDATA_INI= GETDATE();\r\n",
                "    SET @VPROCESSO= 'CARGA DIMENSÃO UNIDADE'\r\n",
                "BEGIN TRY  \r\n",
                "--INICIA MERGE\r\n",
                "INSERT INTO DW_42.SILVER2.DIM_UNIDADE (ID_UNIDADE,DESC_UNIDADE,DATA_INI,DATA_FIM,ATIVO) \r\n",
                "SELECT ID_UNIDADE,DESC_UNIDADE,DATA_INI,DATA_FIM,ATIVO\r\n",
                "FROM (\r\n",
                "MERGE DW_42.SILVER2.DIM_UNIDADE AS DESTINO\r\n",
                "\r\n",
                "USING (SELECT * FROM DW_42.STAGING.STG_UNIDADE_ERP) AS ORIGEM\r\n",
                "\r\n",
                "ON DESTINO.[ID_UNIDADE] = ORIGEM.[ID_UNIDADE]\r\n",
                "-- Há registro no destino e na origem mas com nomes diferente, update data fim\r\n",
                "WHEN MATCHED \r\n",
                "AND (DESTINO.DESC_UNIDADE <> ORIGEM.DESC_UNIDADE)\r\n",
                "AND DESTINO.ATIVO=1\r\n",
                "THEN \r\n",
                "--ATUALIZA DATA FIM NO REGISTRO ANTIGO      \r\n",
                "     UPDATE SET  DESTINO.DATA_FIM = GETDATE(),DESTINO.ATIVO=0\r\n",
                "\r\n",
                "--Quando não há registro no destino e há na origem, insere\r\n",
                "WHEN NOT MATCHED \r\n",
                "THEN \r\n",
                "    INSERT (ID_UNIDADE,DESC_UNIDADE,DATA_INI,DATA_FIM,ATIVO) \r\n",
                "    VALUES (ORIGEM.ID_UNIDADE,ORIGEM.DESC_UNIDADE,GETDATE(),NULL,1)\r\n",
                "-- Use os registros de origem que precisam ser inseridos no Dim por causa da atualização\r\n",
                " OUTPUT $action, \r\n",
                "    ORIGEM.ID_UNIDADE,\r\n",
                "    ORIGEM.DESC_UNIDADE,\r\n",
                "    getdate(),\r\n",
                "    null,\r\n",
                "\t1\r\n",
                ") \r\n",
                "as changes \r\n",
                "(\r\n",
                "  action, \r\n",
                "  ID_UNIDADE,DESC_UNIDADE,DATA_INI,DATA_FIM,ATIVO\r\n",
                ")\r\n",
                "where action='UPDATE';\r\n",
                "--GRAVA LOG\r\n",
                "INSERT INTO [LOGS].[LOG_CARGAS2]\r\n",
                "           ([NUMERO_ERRO],\r\n",
                "           [SERVERIDADE_ERRO],\r\n",
                "           [ESTADO_ERRO],\r\n",
                "           [PROC_ERRO],\r\n",
                "           [LINHA_ERRO],\r\n",
                "           [MSG_ERRO],\r\n",
                "           [SITUACAO],\r\n",
                "           [PROCESSO],\r\n",
                "           [DATA_INI],\r\n",
                "\t\t   [DATA_FIM])\r\n",
                "     VALUES\r\n",
                "        (ERROR_NUMBER(),\r\n",
                "        ERROR_SEVERITY(),\r\n",
                "        ERROR_STATE(),\r\n",
                "        ERROR_PROCEDURE(),\r\n",
                "        ERROR_LINE() ,\r\n",
                "        ERROR_MESSAGE() ,\r\n",
                "        'SUCESSO',\r\n",
                "        @VPROCESSO,\r\n",
                "\t\t@VDATA_INI,\r\n",
                "\t\tGETDATE()\r\n",
                "\t\t)\r\n",
                "\r\n",
                "IF @@TRANCOUNT > 0  \r\n",
                "    COMMIT TRANSACTION;  \r\n",
                "\r\n",
                "--FIM MERGE\r\n",
                "END TRY  \r\n",
                "BEGIN CATCH\r\n",
                " \tIF @@TRANCOUNT > 0  \r\n",
                "        ROLLBACK TRANSACTION; \r\n",
                "\r\n",
                "INSERT INTO [LOGS].[LOG_CARGAS2]\r\n",
                "           ([NUMERO_ERRO],\r\n",
                "           [SERVERIDADE_ERRO],\r\n",
                "           [ESTADO_ERRO],\r\n",
                "           [PROC_ERRO],\r\n",
                "           [LINHA_ERRO],\r\n",
                "           [MSG_ERRO],\r\n",
                "           [SITUACAO],\r\n",
                "           [PROCESSO],\r\n",
                "           [DATA_INI],\r\n",
                "\t\t   [DATA_FIM])\r\n",
                "     VALUES\r\n",
                "        (ERROR_NUMBER(),\r\n",
                "        ERROR_SEVERITY(),\r\n",
                "        ERROR_STATE(),\r\n",
                "        ERROR_PROCEDURE(),\r\n",
                "        ERROR_LINE() ,\r\n",
                "        ERROR_MESSAGE() ,\r\n",
                "        'ERRO',\r\n",
                "        @VPROCESSO,\r\n",
                "\t\t@VDATA_INI,\r\n",
                "\t\tGETDATE()\r\n",
                "\t\t)\r\n",
                "\r\n",
                "        \r\n",
                "END CATCH;  \r\n",
                "\r\n",
                "\r\n",
                ""
            ],
            "metadata": {
                "azdata_cell_guid": "3b9ae0aa-ab0b-4d91-853d-77b160f4dc0e",
                "language": "sql"
            },
            "outputs": [
                {
                    "output_type": "display_data",
                    "data": {
                        "text/html": "Commands completed successfully."
                    },
                    "metadata": {}
                },
                {
                    "output_type": "display_data",
                    "data": {
                        "text/html": "(0 rows affected)"
                    },
                    "metadata": {}
                },
                {
                    "output_type": "display_data",
                    "data": {
                        "text/html": "(1 row affected)"
                    },
                    "metadata": {}
                },
                {
                    "output_type": "display_data",
                    "data": {
                        "text/html": "Total execution time: 00:00:00.425"
                    },
                    "metadata": {}
                }
            ],
            "execution_count": 26
        },
        {
            "cell_type": "markdown",
            "source": [
                "**CARGA DIMENSÃO VENDEDORES**"
            ],
            "metadata": {
                "azdata_cell_guid": "b2d53424-07d5-4ae4-80fe-e9fdb89924e6"
            },
            "attachments": {}
        },
        {
            "cell_type": "code",
            "source": [
                "USE DW_42\r\n",
                "GO\r\n",
                "BEGIN TRANSACTION;  \r\n",
                "   DECLARE @VDATA_INI DATETIME;\r\n",
                "    DECLARE @VPROCESSO VARCHAR(30);\r\n",
                "    SET @VDATA_INI= GETDATE();\r\n",
                "    SET @VPROCESSO= 'CARGA DIMENSÃO VENDEDORES'\r\n",
                "BEGIN TRY  \r\n",
                "--INICIA MERGE\r\n",
                "INSERT INTO DW_42.SILVER2.DIM_VENDEDORES (ID_VENDEDOR,NOME_VENDEDOR,SALARIO,DATA_INI,DATA_FIM,ATIVO) \r\n",
                "SELECT ID_VENDEDOR,NOME_VENDEDOR,SALARIO,DATA_INI,DATA_FIM,ATIVO\r\n",
                "FROM (\r\n",
                "MERGE DW_42.SILVER2.DIM_VENDEDORES AS DESTINO\r\n",
                "\r\n",
                "USING (SELECT * FROM DW_42.STAGING.STG_VENDEDORES_ERP) AS ORIGEM\r\n",
                "\r\n",
                "ON DESTINO.[ID_VENDEDOR] = ORIGEM.[ID_VENDEDOR]\r\n",
                "-- Há registro no destino e na origem mas com nomes diferente, update data fim\r\n",
                "WHEN MATCHED \r\n",
                "AND (DESTINO.NOME_VENDEDOR <> ORIGEM.NOME_VENDEDOR)\r\n",
                "AND DESTINO.ATIVO=1\r\n",
                "THEN \r\n",
                "--ATUALIZA DATA FIM NO REGISTRO ANTIGO      \r\n",
                "     UPDATE SET  DESTINO.DATA_FIM = GETDATE(),DESTINO.ATIVO=0\r\n",
                "\r\n",
                "--Quando não há registro no destino e há na origem, insere\r\n",
                "WHEN NOT MATCHED \r\n",
                "THEN \r\n",
                "    INSERT (ID_VENDEDOR,NOME_VENDEDOR,SALARIO,DATA_INI,DATA_FIM,ATIVO) \r\n",
                "    VALUES (ORIGEM.ID_VENDEDOR,ORIGEM.NOME_VENDEDOR,ORIGEM.SALARIO,GETDATE(),NULL,1)\r\n",
                "-- Use os registros de origem que precisam ser inseridos no Dim por causa da atualização\r\n",
                " OUTPUT $action, \r\n",
                "    ORIGEM.ID_VENDEDOR,\r\n",
                "    ORIGEM.NOME_VENDEDOR,\r\n",
                "    ORIGEM.SALARIO,\r\n",
                "    getdate(),\r\n",
                "    null,\r\n",
                "\t1\r\n",
                ") \r\n",
                "as changes \r\n",
                "(\r\n",
                "  action, \r\n",
                "  ID_VENDEDOR,NOME_VENDEDOR,SALARIO,DATA_INI,DATA_FIM,ATIVO\r\n",
                ")\r\n",
                "where action='UPDATE';\r\n",
                "--FIM MERGE\r\n",
                "--GRAVA LOG \r\n",
                "INSERT INTO [LOGS].[LOG_CARGAS2]\r\n",
                "           ([NUMERO_ERRO],\r\n",
                "           [SERVERIDADE_ERRO],\r\n",
                "           [ESTADO_ERRO],\r\n",
                "           [PROC_ERRO],\r\n",
                "           [LINHA_ERRO],\r\n",
                "           [MSG_ERRO],\r\n",
                "           [SITUACAO],\r\n",
                "           [PROCESSO],\r\n",
                "           [DATA_INI],\r\n",
                "\t\t   [DATA_FIM])\r\n",
                "     VALUES\r\n",
                "        (ERROR_NUMBER(),\r\n",
                "        ERROR_SEVERITY(),\r\n",
                "        ERROR_STATE(),\r\n",
                "        ERROR_PROCEDURE(),\r\n",
                "        ERROR_LINE() ,\r\n",
                "        ERROR_MESSAGE() ,\r\n",
                "        'SUCESSO',\r\n",
                "        @VPROCESSO,\r\n",
                "\t\t@VDATA_INI,\r\n",
                "\t\tGETDATE()\r\n",
                "\t\t)\r\n",
                "\r\n",
                "IF @@TRANCOUNT > 0  \r\n",
                "    COMMIT TRANSACTION;  \r\n",
                "END TRY  \r\n",
                "BEGIN CATCH\r\n",
                " \tIF @@TRANCOUNT > 0  \r\n",
                "        ROLLBACK TRANSACTION; \r\n",
                "\r\n",
                "INSERT INTO [LOGS].[LOG_CARGAS2]\r\n",
                "           ([NUMERO_ERRO],\r\n",
                "           [SERVERIDADE_ERRO],\r\n",
                "           [ESTADO_ERRO],\r\n",
                "           [PROC_ERRO],\r\n",
                "           [LINHA_ERRO],\r\n",
                "           [MSG_ERRO],\r\n",
                "           [SITUACAO],\r\n",
                "           [PROCESSO],\r\n",
                "           [DATA_INI],\r\n",
                "\t\t   [DATA_FIM])\r\n",
                "     VALUES\r\n",
                "        (ERROR_NUMBER(),\r\n",
                "        ERROR_SEVERITY(),\r\n",
                "        ERROR_STATE(),\r\n",
                "        ERROR_PROCEDURE(),\r\n",
                "        ERROR_LINE() ,\r\n",
                "        ERROR_MESSAGE() ,\r\n",
                "        'ERRO',\r\n",
                "        @VPROCESSO,\r\n",
                "\t\t@VDATA_INI,\r\n",
                "\t\tGETDATE()\r\n",
                "\t\t)\r\n",
                "\r\n",
                "        \r\n",
                "END CATCH;  \r\n",
                "\r\n",
                ""
            ],
            "metadata": {
                "azdata_cell_guid": "bed8d7e2-1d73-4130-a679-dd4fe2986285",
                "language": "sql"
            },
            "outputs": [
                {
                    "output_type": "display_data",
                    "data": {
                        "text/html": "Commands completed successfully."
                    },
                    "metadata": {}
                },
                {
                    "output_type": "display_data",
                    "data": {
                        "text/html": "(0 rows affected)"
                    },
                    "metadata": {}
                },
                {
                    "output_type": "display_data",
                    "data": {
                        "text/html": "(1 row affected)"
                    },
                    "metadata": {}
                },
                {
                    "output_type": "display_data",
                    "data": {
                        "text/html": "Total execution time: 00:00:00.420"
                    },
                    "metadata": {}
                }
            ],
            "execution_count": 27
        },
        {
            "cell_type": "markdown",
            "source": [
                "**CRIANDO A TABELA FATO**"
            ],
            "metadata": {
                "azdata_cell_guid": "7eb7789a-3364-482e-baec-367dd13f637c"
            },
            "attachments": {}
        },
        {
            "cell_type": "code",
            "source": [
                "USE DW_42\r\n",
                "GO\r\n",
                "IF NOT EXISTS\r\n",
                "  (SELECT * FROM sysobjects WHERE name='FATO_VENDA_ERP' AND xtype='U')\r\n",
                "CREATE TABLE GOLD2.FATO_VENDA_ERP\r\n",
                "(\r\n",
                "[SK_VENDA] INT IDENTITY(1,1) NOT NULL PRIMARY KEY,\r\n",
                "[NUM_VENDA] INT,\r\n",
                "[DATA_VENDA] DATE,\r\n",
                "[SK_CLIENTE]INT,\r\n",
                "[NUM_SEQ] INT,\r\n",
                "[SK_PROD] INT,\r\n",
                "[SK_VENDEDOR] INT,\r\n",
                "[STATUS] CHAR(1),\r\n",
                "[QTDE] DECIMAL(10,2),\r\n",
                "[VAL_UNIT] DECIMAL(10,2),\r\n",
                "[VAL_TOTAL] DECIMAL(10,2)\r\n",
                ")\r\n",
                "GO\r\n",
                ""
            ],
            "metadata": {
                "azdata_cell_guid": "aa88caf2-8269-478b-bc85-5bd34a67a63c",
                "language": "sql"
            },
            "outputs": [
                {
                    "output_type": "display_data",
                    "data": {
                        "text/html": "Commands completed successfully."
                    },
                    "metadata": {}
                },
                {
                    "output_type": "display_data",
                    "data": {
                        "text/html": "Commands completed successfully."
                    },
                    "metadata": {}
                },
                {
                    "output_type": "display_data",
                    "data": {
                        "text/html": "Total execution time: 00:00:00.399"
                    },
                    "metadata": {}
                }
            ],
            "execution_count": 28
        },
        {
            "cell_type": "markdown",
            "source": [
                "**ANALISANDO AMOSTRAGEM DOS DADOS**"
            ],
            "metadata": {
                "azdata_cell_guid": "66fed23f-dc91-4157-aa33-f9df0a3585a3"
            },
            "attachments": {}
        },
        {
            "cell_type": "code",
            "source": [
                "SELECT  \r\n",
                "        A.NUM_VENDA,\r\n",
                "        A.DATA_VENDA,\r\n",
                "        E.SK_CLIENTE,\r\n",
                "        B.NUM_SEQ,\r\n",
                "        C.SK_PROD,\r\n",
                "        D.SK_VENDEDOR,\r\n",
                "        A.STATUS,\r\n",
                "        B.QTDE,\r\n",
                "        B.VAL_UNIT,\r\n",
                "        B.VAL_TOTAL\r\n",
                "\r\n",
                "  FROM DW_42.STAGING.STG_VENDAS_ERP A\r\n",
                "  INNER JOIN DW_42.STAGING.STG_VENDA_ITENS_ERP B\r\n",
                "  ON A.NUM_VENDA=B.NUM_VENDA\r\n",
                "  \r\n",
                "  INNER JOIN SILVER2.DIM_PRODUTOS C\r\n",
                "  ON B.ID_PROD=C.ID_PROD\r\n",
                "  AND C.ATIVO=1\r\n",
                "   \r\n",
                "  INNER JOIN SILVER2.DIM_VENDEDORES D\r\n",
                "  ON A.ID_VENDEDOR=D.ID_VENDEDOR\r\n",
                "  AND D.ATIVO=1\r\n",
                "\r\n",
                "  INNER JOIN SILVER2.DIM_CLIENTES E\r\n",
                "  ON A.ID_CLIENTE=E.ID_CLIENTE\r\n",
                "  AND E.ATIVO=1\r\n",
                ""
            ],
            "metadata": {
                "azdata_cell_guid": "80b508ec-7adf-47c0-85ef-4d57909fa40e",
                "language": "sql"
            },
            "outputs": [
                {
                    "output_type": "display_data",
                    "data": {
                        "text/html": "(0 rows affected)"
                    },
                    "metadata": {}
                },
                {
                    "output_type": "display_data",
                    "data": {
                        "text/html": "Total execution time: 00:00:00.640"
                    },
                    "metadata": {}
                },
                {
                    "output_type": "execute_result",
                    "metadata": {},
                    "execution_count": 31,
                    "data": {
                        "application/vnd.dataresource+json": {
                            "schema": {
                                "fields": [
                                    {
                                        "name": "NUM_VENDA"
                                    },
                                    {
                                        "name": "DATA_VENDA"
                                    },
                                    {
                                        "name": "SK_CLIENTE"
                                    },
                                    {
                                        "name": "NUM_SEQ"
                                    },
                                    {
                                        "name": "SK_PROD"
                                    },
                                    {
                                        "name": "SK_VENDEDOR"
                                    },
                                    {
                                        "name": "STATUS"
                                    },
                                    {
                                        "name": "QTDE"
                                    },
                                    {
                                        "name": "VAL_UNIT"
                                    },
                                    {
                                        "name": "VAL_TOTAL"
                                    }
                                ]
                            },
                            "data": []
                        },
                        "text/html": [
                            "<table>",
                            "<tr><th>NUM_VENDA</th><th>DATA_VENDA</th><th>SK_CLIENTE</th><th>NUM_SEQ</th><th>SK_PROD</th><th>SK_VENDEDOR</th><th>STATUS</th><th>QTDE</th><th>VAL_UNIT</th><th>VAL_TOTAL</th></tr>",
                            "</table>"
                        ]
                    }
                }
            ],
            "execution_count": 31
        },
        {
            "cell_type": "markdown",
            "source": [
                "**CARGA FATO**"
            ],
            "metadata": {
                "azdata_cell_guid": "b5023a31-bb8d-4d18-bb06-d1c4db9f6b4e"
            },
            "attachments": {}
        },
        {
            "cell_type": "code",
            "source": [
                "USE DW\r\n",
                "GO\r\n",
                "BEGIN TRANSACTION;  \r\n",
                "   DECLARE @VDATA_INI DATETIME;\r\n",
                "    DECLARE @VPROCESSO VARCHAR(30);\r\n",
                "    SET @VDATA_INI= GETDATE();\r\n",
                "    SET @VPROCESSO= 'CARGA FATO'\r\n",
                "BEGIN TRY  \r\n",
                "\r\n",
                "MERGE GOLD2.FATO_VENDA_ERP AS DESTINO\r\n",
                "\r\n",
                "USING (\r\n",
                "SELECT  \r\n",
                "        A.NUM_VENDA,\r\n",
                "        A.DATA_VENDA,\r\n",
                "        E.SK_CLIENTE,\r\n",
                "        B.NUM_SEQ,\r\n",
                "        C.SK_PROD,\r\n",
                "        D.SK_VENDEDOR,\r\n",
                "        A.STATUS,\r\n",
                "        B.QTDE,\r\n",
                "        B.VAL_UNIT,\r\n",
                "        B.VAL_TOTAL\r\n",
                "\r\n",
                "  FROM DW.STAGING.STG_VENDAS_ERP A\r\n",
                "  INNER JOIN DW.STAGING.STG_VENDA_ITENS_ERP B\r\n",
                "  ON A.NUM_VENDA=B.NUM_VENDA\r\n",
                "  \r\n",
                "  INNER JOIN SILVER2.DIM_PRODUTOS C\r\n",
                "  ON B.ID_PROD=C.ID_PROD\r\n",
                "  AND C.ATIVO=1\r\n",
                "   \r\n",
                "  INNER JOIN SILVER2.DIM_VENDEDORES D\r\n",
                "  ON A.ID_VENDEDOR=D.ID_VENDEDOR\r\n",
                "  AND D.ATIVO=1\r\n",
                "\r\n",
                "  INNER JOIN SILVER2.DIM_CLIENTES E\r\n",
                "  ON A.ID_CLIENTE=E.ID_CLIENTE\r\n",
                "  AND E.ATIVO=1 ) AS ORIGEM\r\n",
                "\r\n",
                "ON (DESTINO.NUM_VENDA = ORIGEM.NUM_VENDA\r\n",
                "AND DESTINO.NUM_SEQ = ORIGEM.NUM_SEQ)\r\n",
                "\r\n",
                "-- Há registro no destino e na origem\r\n",
                "WHEN MATCHED \r\n",
                "\r\n",
                "THEN \r\n",
                "    UPDATE SET    NUM_VENDA=ORIGEM.NUM_VENDA,\r\n",
                "                  DATA_VENDA=ORIGEM.DATA_VENDA,\r\n",
                "                  SK_CLIENTE=ORIGEM.SK_CLIENTE,\r\n",
                "                  NUM_SEQ=ORIGEM.NUM_SEQ,\r\n",
                "                  SK_PROD=ORIGEM.SK_PROD,\r\n",
                "                  SK_VENDEDOR=ORIGEM.SK_VENDEDOR,\r\n",
                "                  STATUS=ORIGEM.STATUS,\r\n",
                "                  QTDE=ORIGEM.QTDE,\r\n",
                "                  VAL_UNIT=ORIGEM.VAL_UNIT,\r\n",
                "                  VAL_TOTAL=ORIGEM.VAL_TOTAL\r\n",
                "\r\n",
                "--Quando não há registro no destino e há na origem\r\n",
                "WHEN NOT MATCHED \r\n",
                "\r\n",
                "THEN \r\n",
                "   INSERT  \r\n",
                "           (NUM_VENDA,DATA_VENDA,SK_CLIENTE,NUM_SEQ,SK_PROD,SK_VENDEDOR,STATUS,QTDE,VAL_UNIT,VAL_TOTAL)\r\n",
                "     VALUES\r\n",
                "           (      ORIGEM.NUM_VENDA,\r\n",
                "                  ORIGEM.DATA_VENDA,\r\n",
                "                  ORIGEM.SK_CLIENTE,\r\n",
                "                  ORIGEM.NUM_SEQ,\r\n",
                "                  ORIGEM.SK_PROD,\r\n",
                "                  ORIGEM.SK_VENDEDOR,\r\n",
                "                  ORIGEM.STATUS,\r\n",
                "                  ORIGEM.QTDE,\r\n",
                "                  ORIGEM.VAL_UNIT,\r\n",
                "                  ORIGEM.VAL_TOTAL);\r\n",
                "\r\n",
                "--FIM MERGE\r\n",
                "-- GRAVA LOG\r\n",
                "INSERT INTO [LOGS].[LOG_CARGAS2]\r\n",
                "           ([NUMERO_ERRO],\r\n",
                "           [SERVERIDADE_ERRO],\r\n",
                "           [ESTADO_ERRO],\r\n",
                "           [PROC_ERRO],\r\n",
                "           [LINHA_ERRO],\r\n",
                "           [MSG_ERRO],\r\n",
                "           [SITUACAO],\r\n",
                "           [PROCESSO],\r\n",
                "           [DATA_INI],\r\n",
                "\t\t   [DATA_FIM])\r\n",
                "     VALUES\r\n",
                "        (ERROR_NUMBER(),\r\n",
                "        ERROR_SEVERITY(),\r\n",
                "        ERROR_STATE(),\r\n",
                "        ERROR_PROCEDURE(),\r\n",
                "        ERROR_LINE() ,\r\n",
                "        ERROR_MESSAGE() ,\r\n",
                "        'SUCESSO',\r\n",
                "        @VPROCESSO,\r\n",
                "\t\t@VDATA_INI,\r\n",
                "\t\tGETDATE()\r\n",
                "\t\t)\r\n",
                "SELECT 'SUCESSO ANTES',@@TRANCOUNT\r\n",
                "IF @@TRANCOUNT > 0  \r\n",
                "    COMMIT TRANSACTION;  \r\n",
                "SELECT 'SUCESSO DEPOIS',@@TRANCOUNT    \r\n",
                "END TRY  \r\n",
                "BEGIN CATCH\r\n",
                "SELECT 'ERRO ANTES',@@TRANCOUNT    \r\n",
                " \tIF @@TRANCOUNT > 0  \r\n",
                "        ROLLBACK TRANSACTION; \r\n",
                "SELECT 'ERRO DEPOIS',@@TRANCOUNT    \r\n",
                "INSERT INTO [LOGS].[LOG_CARGAS2]\r\n",
                "           ([NUMERO_ERRO],\r\n",
                "           [SERVERIDADE_ERRO],\r\n",
                "           [ESTADO_ERRO],\r\n",
                "           [PROC_ERRO],\r\n",
                "           [LINHA_ERRO],\r\n",
                "           [MSG_ERRO],\r\n",
                "           [SITUACAO],\r\n",
                "           [PROCESSO],\r\n",
                "           [DATA_INI],\r\n",
                "\t\t   [DATA_FIM])\r\n",
                "     VALUES\r\n",
                "        (ERROR_NUMBER(),\r\n",
                "        ERROR_SEVERITY(),\r\n",
                "        ERROR_STATE(),\r\n",
                "        ERROR_PROCEDURE(),\r\n",
                "        ERROR_LINE() ,\r\n",
                "        ERROR_MESSAGE() ,\r\n",
                "        'ERRO',\r\n",
                "        @VPROCESSO,\r\n",
                "\t\t@VDATA_INI,\r\n",
                "\t\tGETDATE()\r\n",
                "\t\t)\r\n",
                "\r\n",
                "COMMIT;          \r\n",
                "END CATCH;  \r\n",
                "\r\n",
                "--COMMIT;  \r\n",
                ""
            ],
            "metadata": {
                "azdata_cell_guid": "7d572241-fb06-407e-bf49-1c7477d3f46c",
                "language": "sql"
            },
            "outputs": [],
            "execution_count": null
        },
        {
            "cell_type": "markdown",
            "source": [
                "**Processo finalizado**"
            ],
            "metadata": {
                "azdata_cell_guid": "84464f2a-9436-491a-9eb9-b0ebad6fad30"
            },
            "attachments": {}
        },
        {
            "cell_type": "code",
            "source": [
                ""
            ],
            "metadata": {
                "azdata_cell_guid": "8b77d636-d30b-47c3-8c98-c493e7646c4d",
                "language": "sql"
            },
            "outputs": [],
            "execution_count": null
        },
        {
            "cell_type": "code",
            "source": [
                ""
            ],
            "metadata": {
                "azdata_cell_guid": "f2770773-d098-4b2c-ae9e-7856f434d1a5",
                "language": "sql"
            },
            "outputs": [],
            "execution_count": null
        }
    ]
}