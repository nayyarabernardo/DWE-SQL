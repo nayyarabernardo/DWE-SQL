{
    "metadata": {
        "kernelspec": {
            "name": "SQL",
            "display_name": "SQL",
            "language": "sql"
        },
        "language_info": {
            "name": "sql",
            "version": ""
        }
    },
    "nbformat_minor": 2,
    "nbformat": 4,
    "cells": [
        {
            "cell_type": "markdown",
            "source": [
                "**CRIAR TABELA PRODUTO**"
            ],
            "metadata": {
                "azdata_cell_guid": "70342324-4067-4378-8db5-2835043204cf"
            },
            "attachments": {}
        },
        {
            "cell_type": "code",
            "source": [
                "USE DW_52\r\n",
                "GO\r\n",
                "CREATE TABLE produto (cod nvarchar(5),\r\n",
                "                      nome nvarchar(20))"
            ],
            "metadata": {
                "azdata_cell_guid": "ea9390e2-c0f1-4ba1-b2df-13a2b3cb01a4",
                "language": "sql"
            },
            "outputs": [
                {
                    "output_type": "display_data",
                    "data": {
                        "text/html": "Commands completed successfully."
                    },
                    "metadata": {}
                },
                {
                    "output_type": "display_data",
                    "data": {
                        "text/html": "Commands completed successfully."
                    },
                    "metadata": {}
                },
                {
                    "output_type": "display_data",
                    "data": {
                        "text/html": "Total execution time: 00:00:00.306"
                    },
                    "metadata": {}
                }
            ],
            "execution_count": 2
        },
        {
            "cell_type": "markdown",
            "source": [
                "**CARGA BULK**\n",
                "\n",
                "**[https://learn.microsoft.com/pt-br/sql/t-sql/statements/bulk-insert-transact-sql?view=sql-server-ver16](https://learn.microsoft.com/pt-br/sql/t-sql/statements/bulk-insert-transact-sql?view=sql-server-ver16)**"
            ],
            "metadata": {
                "language": "sql",
                "azdata_cell_guid": "8e2d2aaf-1bea-4ba6-a288-1fcdb2aa6339"
            },
            "attachments": {}
        },
        {
            "cell_type": "code",
            "source": [
                "--Exemplo de Bulk Insert\r\n",
                "TRUNCATE TABLE produto\r\n",
                "GO\r\n",
                "BULK\r\n",
                "INSERT produto\r\n",
                "FROM 'C:\\DWE2023\\Fontes\\produto.csv' --Ler Arquivo no Servidor\r\n",
                "WITH\r\n",
                "(\r\n",
                "\tcodepage='ACP',  -- { 'ACP' | 'OEM' | 'RAW' | 'code_page' } ] \r\n",
                "    DATAFILETYPE ='char',--      { 'char' | 'native'| 'widechar' | 'widenative' } ]         \r\n",
                "\tfieldterminator='|',\r\n",
                "    rowterminator='\\n',\r\n",
                "\tmaxerrors=0,\r\n",
                "\tfire_triggers,\r\n",
                "    firstrow=2\r\n",
                " \t--lastrow=11\r\n",
                ")\r\n",
                "\t;"
            ],
            "metadata": {
                "language": "sql",
                "azdata_cell_guid": "a1792bb8-153f-4f54-86f0-3867471f07b4"
            },
            "outputs": [
                {
                    "output_type": "display_data",
                    "data": {
                        "text/html": "Commands completed successfully."
                    },
                    "metadata": {}
                },
                {
                    "output_type": "display_data",
                    "data": {
                        "text/html": "(11 rows affected)"
                    },
                    "metadata": {}
                },
                {
                    "output_type": "display_data",
                    "data": {
                        "text/html": "Total execution time: 00:00:00.313"
                    },
                    "metadata": {}
                }
            ],
            "execution_count": 5
        },
        {
            "cell_type": "markdown",
            "source": [
                "**VERFICANDO DADOS IMPORTADOS**"
            ],
            "metadata": {
                "language": "sql",
                "azdata_cell_guid": "0725ee2d-28c3-4c5c-b230-0a066f9db781"
            },
            "attachments": {}
        },
        {
            "cell_type": "code",
            "source": [
                "select *  from produto\r\n",
                ""
            ],
            "metadata": {
                "language": "sql",
                "azdata_cell_guid": "8eee9a51-2fa4-4cce-891c-8a9031a0ba92"
            },
            "outputs": [
{
    "output_type": "display_data",
    "data": {
        "text/html": "(11 rows affected)"
    },
    "metadata": {}
}, {
    "output_type": "display_data",
    "data": {
        "text/html": "Total execution time: 00:00:00.161"
    },
    "metadata": {}
}, {
    "output_type": "execute_result",
    "metadata": {},
    "execution_count": 6,
    "data": {
        "application/vnd.dataresource+json": {
            "schema": {
                "fields": [
                    {
                        "name": "cod"
                    },
                    {
                        "name": "nome"
                    }
                ]
            },
            "data": [
                {
                    "0": "00001",
                    "1": "Café"
                },
                {
                    "0": "00002",
                    "1": "Leite"
                },
                {
                    "0": "00003",
                    "1": "Agua"
                },
                {
                    "0": "00004",
                    "1": "Açucar"
                },
                {
                    "0": "00005",
                    "1": "Oléo"
                },
                {
                    "0": "00006",
                    "1": "Chocolate"
                },
                {
                    "0": "00007",
                    "1": "Refrigerante"
                },
                {
                    "0": "00008",
                    "1": "Pão"
                },
                {
                    "0": "00009",
                    "1": "Macarrão"
                },
                {
                    "0": "00010",
                    "1": "Arroz"
                },
                {
                    "0": "00011",
                    "1": "Farinha"
                }
            ]
        },
        "text/html": [
            "<table>",
            "<tr><th>cod</th><th>nome</th></tr>",
            "<tr><td>00001</td><td>Café</td></tr>",
            "<tr><td>00002</td><td>Leite</td></tr>",
            "<tr><td>00003</td><td>Agua</td></tr>",
            "<tr><td>00004</td><td>Açucar</td></tr>",
            "<tr><td>00005</td><td>Oléo</td></tr>",
            "<tr><td>00006</td><td>Chocolate</td></tr>",
            "<tr><td>00007</td><td>Refrigerante</td></tr>",
            "<tr><td>00008</td><td>Pão</td></tr>",
            "<tr><td>00009</td><td>Macarrão</td></tr>",
            "<tr><td>00010</td><td>Arroz</td></tr>",
            "<tr><td>00011</td><td>Farinha</td></tr>",
            "</table>"
        ]
    }
}
],
            "execution_count": 6
        }
    ]
}